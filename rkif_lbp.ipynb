{
 "cells": [
  {
   "cell_type": "markdown",
   "metadata": {},
   "source": [
    "## Tutorial for Classification Machine Learning and Statistical Analysis on Simulations of PTP1B. \n",
    "\n",
    "In this jupyter notebook we will use the model_building.py and stat_modelling.py modules to identify differences in the molecular interactions across PTP1B when the WPD-loop of PTP1B is in the Closed state, versus when the WPD-loop is in the Open state.\n",
    "\n",
    "This notebook will also cover all the pre- and post-processing steps requireds to prepare, analyse and visualise the results.\n",
    "\n",
    "The dataset used here is for WT PTP1B and is the same data as what was used in the manuscript. \n",
    "\n",
    "### Adapting this to use with LBP simulation data (conformational change)\n",
    "* Instead of PTP1B closed to open, we can look at the closed to open transitions."
   ]
  },
  {
   "cell_type": "code",
   "execution_count": 1,
   "metadata": {},
   "outputs": [
    {
     "name": "stderr",
     "output_type": "stream",
     "text": [
      "/ihome/lchong/dty7/Apps/anaconda3/envs/kif/lib/python3.11/site-packages/tqdm/auto.py:21: TqdmWarning: IProgress not found. Please update jupyter and ipywidgets. See https://ipywidgets.readthedocs.io/en/stable/user_install.html\n",
      "  from .autonotebook import tqdm as notebook_tqdm\n",
      "/ihome/lchong/dty7/Apps/anaconda3/envs/kif/lib/python3.11/site-packages/xgboost/core.py:377: FutureWarning: Your system has an old version of glibc (< 2.28). We will stop supporting Linux distros with glibc older than 2.28 after **May 31, 2025**. Please upgrade to a recent Linux distro (with glibc >= 2.28) to use future versions of XGBoost.\n",
      "Note: You have installed the 'manylinux2014' variant of XGBoost. Certain features such as GPU algorithms or federated learning are not available. To use these features, please upgrade to a recent Linux distro with glibc 2.28+, and install the 'manylinux_2_28' variant.\n",
      "  warnings.warn(\n"
     ]
    }
   ],
   "source": [
    "import pandas as pd\n",
    "\n",
    "from key_interactions_finder import data_preperation\n",
    "from key_interactions_finder import model_building\n",
    "from key_interactions_finder import stat_modelling\n",
    "from key_interactions_finder import post_proccessing\n",
    "from key_interactions_finder import pymol_projections"
   ]
  },
  {
   "cell_type": "markdown",
   "metadata": {},
   "source": [
    "At this point, we'll define the location of our downloaded input files and where we would like to save our output files to throughout this tutorial."
   ]
  },
  {
   "cell_type": "code",
   "execution_count": 6,
   "metadata": {},
   "outputs": [],
   "source": [
    "# save in current dir or alt\n",
    "save_dir = \"\"\n",
    "\n",
    "# Where all input data is stored. \n",
    "#in_dir = save_dir + r\"data/\"\n",
    "in_dir = save_dir\n",
    "\n",
    "# The target variable's per frame values are stored here. \n",
    "classifications_file = in_dir + r\"class_assignments_withneither_10i.txt\"\n",
    "\n",
    "# The pdb file will later be used to determine the distance of each residue to a site of interest.\n",
    "# Original crystall structure state (major conformation)\n",
    "pdb_file = in_dir + r\"1lst_dry.pdb\"\n",
    "\n",
    "# output folders for the stats and ml analysis. These will be created if they don't already exist.\n",
    "stats_out_dir = save_dir + r\"LBP_stat_analysis\"\n",
    "ml_out_dir = save_dir + r\"LBP_ml_analysis\""
   ]
  },
  {
   "cell_type": "markdown",
   "metadata": {},
   "source": [
    "### Preparation Step 1: Load the non-covalent interaction datasets\n",
    "\n",
    "The contact identification calculation was split into 4 blocks of different residues ranges. We will first need to load these blocks in and merge them. Luckly this is very easy with pandas. \n",
    "\n",
    "Note this data was generated using the script: \"identify_contacts.py\" which is provided with KIF."
   ]
  },
  {
   "cell_type": "code",
   "execution_count": 48,
   "metadata": {},
   "outputs": [
    {
     "data": {
      "text/html": [
       "<div>\n",
       "<style scoped>\n",
       "    .dataframe tbody tr th:only-of-type {\n",
       "        vertical-align: middle;\n",
       "    }\n",
       "\n",
       "    .dataframe tbody tr th {\n",
       "        vertical-align: top;\n",
       "    }\n",
       "\n",
       "    .dataframe thead th {\n",
       "        text-align: right;\n",
       "    }\n",
       "</style>\n",
       "<table border=\"1\" class=\"dataframe\">\n",
       "  <thead>\n",
       "    <tr style=\"text-align: right;\">\n",
       "      <th></th>\n",
       "      <th>3Pro 6Val Hydrophobic</th>\n",
       "      <th>2Leu 41Met Other</th>\n",
       "      <th>2Leu 43Val Hydrophobic</th>\n",
       "      <th>3Pro 43Val Hydrophobic</th>\n",
       "      <th>3Pro 65Asp Other</th>\n",
       "      <th>4Gln 42Gln Hbond</th>\n",
       "      <th>4Gln 43Val Other</th>\n",
       "      <th>4Gln 44Lys Hbond</th>\n",
       "      <th>5Thr 43Val Other</th>\n",
       "      <th>5Thr 44Lys Hbond</th>\n",
       "      <th>...</th>\n",
       "      <th>226Met 229Lys Hbond</th>\n",
       "      <th>226Met 230Tyr Other</th>\n",
       "      <th>227Ala 230Tyr Other</th>\n",
       "      <th>227Ala 231Phe Hydrophobic</th>\n",
       "      <th>227Ala 235Val Hydrophobic</th>\n",
       "      <th>228Lys 231Phe Hbond</th>\n",
       "      <th>228Lys 232Asp Saltbr</th>\n",
       "      <th>231Phe 235Val Hydrophobic</th>\n",
       "      <th>234Asn 237Gly Hbond</th>\n",
       "      <th>234Asn 238Asp Hbond</th>\n",
       "    </tr>\n",
       "  </thead>\n",
       "  <tbody>\n",
       "    <tr>\n",
       "      <th>0</th>\n",
       "      <td>0.5329</td>\n",
       "      <td>0.3142</td>\n",
       "      <td>0.2983</td>\n",
       "      <td>1.7172</td>\n",
       "      <td>0.0003</td>\n",
       "      <td>0.9915</td>\n",
       "      <td>4.2693</td>\n",
       "      <td>10.8300</td>\n",
       "      <td>0.0026</td>\n",
       "      <td>3.6985</td>\n",
       "      <td>...</td>\n",
       "      <td>2.1654</td>\n",
       "      <td>2.5094</td>\n",
       "      <td>4.4450</td>\n",
       "      <td>8.2710</td>\n",
       "      <td>1.0146</td>\n",
       "      <td>4.8463</td>\n",
       "      <td>0.0174</td>\n",
       "      <td>4.6154</td>\n",
       "      <td>1.3497</td>\n",
       "      <td>0.0001</td>\n",
       "    </tr>\n",
       "    <tr>\n",
       "      <th>1</th>\n",
       "      <td>0.5528</td>\n",
       "      <td>0.2583</td>\n",
       "      <td>0.0727</td>\n",
       "      <td>2.0700</td>\n",
       "      <td>0.0002</td>\n",
       "      <td>0.0172</td>\n",
       "      <td>3.4245</td>\n",
       "      <td>5.3518</td>\n",
       "      <td>0.0174</td>\n",
       "      <td>4.8669</td>\n",
       "      <td>...</td>\n",
       "      <td>4.1190</td>\n",
       "      <td>3.9452</td>\n",
       "      <td>3.3073</td>\n",
       "      <td>6.3502</td>\n",
       "      <td>0.5429</td>\n",
       "      <td>4.9758</td>\n",
       "      <td>0.2229</td>\n",
       "      <td>4.4195</td>\n",
       "      <td>1.2363</td>\n",
       "      <td>0.0001</td>\n",
       "    </tr>\n",
       "    <tr>\n",
       "      <th>2</th>\n",
       "      <td>0.1342</td>\n",
       "      <td>0.0135</td>\n",
       "      <td>0.0062</td>\n",
       "      <td>0.9421</td>\n",
       "      <td>0.0000</td>\n",
       "      <td>0.0011</td>\n",
       "      <td>2.7918</td>\n",
       "      <td>4.0636</td>\n",
       "      <td>0.0243</td>\n",
       "      <td>7.3735</td>\n",
       "      <td>...</td>\n",
       "      <td>5.1370</td>\n",
       "      <td>3.2289</td>\n",
       "      <td>4.1669</td>\n",
       "      <td>5.8355</td>\n",
       "      <td>0.8972</td>\n",
       "      <td>3.4915</td>\n",
       "      <td>0.0256</td>\n",
       "      <td>2.4443</td>\n",
       "      <td>0.8852</td>\n",
       "      <td>0.0000</td>\n",
       "    </tr>\n",
       "  </tbody>\n",
       "</table>\n",
       "<p>3 rows × 682 columns</p>\n",
       "</div>"
      ],
      "text/plain": [
       "   3Pro 6Val Hydrophobic  2Leu 41Met Other  2Leu 43Val Hydrophobic  \\\n",
       "0                 0.5329            0.3142                  0.2983   \n",
       "1                 0.5528            0.2583                  0.0727   \n",
       "2                 0.1342            0.0135                  0.0062   \n",
       "\n",
       "   3Pro 43Val Hydrophobic  3Pro 65Asp Other  4Gln 42Gln Hbond  \\\n",
       "0                  1.7172            0.0003            0.9915   \n",
       "1                  2.0700            0.0002            0.0172   \n",
       "2                  0.9421            0.0000            0.0011   \n",
       "\n",
       "   4Gln 43Val Other  4Gln 44Lys Hbond  5Thr 43Val Other  5Thr 44Lys Hbond  \\\n",
       "0            4.2693           10.8300            0.0026            3.6985   \n",
       "1            3.4245            5.3518            0.0174            4.8669   \n",
       "2            2.7918            4.0636            0.0243            7.3735   \n",
       "\n",
       "   ...  226Met 229Lys Hbond  226Met 230Tyr Other  227Ala 230Tyr Other  \\\n",
       "0  ...               2.1654               2.5094               4.4450   \n",
       "1  ...               4.1190               3.9452               3.3073   \n",
       "2  ...               5.1370               3.2289               4.1669   \n",
       "\n",
       "   227Ala 231Phe Hydrophobic  227Ala 235Val Hydrophobic  228Lys 231Phe Hbond  \\\n",
       "0                     8.2710                     1.0146               4.8463   \n",
       "1                     6.3502                     0.5429               4.9758   \n",
       "2                     5.8355                     0.8972               3.4915   \n",
       "\n",
       "   228Lys 232Asp Saltbr  231Phe 235Val Hydrophobic  234Asn 237Gly Hbond  \\\n",
       "0                0.0174                     4.6154               1.3497   \n",
       "1                0.2229                     4.4195               1.2363   \n",
       "2                0.0256                     2.4443               0.8852   \n",
       "\n",
       "   234Asn 238Asp Hbond  \n",
       "0               0.0001  \n",
       "1               0.0001  \n",
       "2               0.0000  \n",
       "\n",
       "[3 rows x 682 columns]"
      ]
     },
     "execution_count": 48,
     "metadata": {},
     "output_type": "execute_result"
    }
   ],
   "source": [
    "#input_files = [\"PTP1B_block1.csv\", \"PTP1B_block2.csv\", \"PTP1B_block3.csv\", \"PTP1B_block4.csv\"]\n",
    "#input_files = [\"contacts_all_res.csv\"]\n",
    "#input_files = [\"contacts_all_10i.csv\"]\n",
    "input_files = [\"contacts_merged_10i.csv\"]\n",
    "dfs = []\n",
    "for file_name in input_files:\n",
    "    file_path = in_dir + file_name\n",
    "    df = pd.read_csv(file_path)\n",
    "    dfs.append(df)\n",
    "\n",
    "all_contacts_df = pd.concat(dfs, join='outer', axis=1)\n",
    "all_contacts_df.head(3)"
   ]
  },
  {
   "cell_type": "markdown",
   "metadata": {},
   "source": [
    "We can see we now have a dataframe with all the contacts found (989) identified and of length 10000, with matches with the number of frames in the trajectory. "
   ]
  },
  {
   "cell_type": "code",
   "execution_count": 49,
   "metadata": {},
   "outputs": [
    {
     "data": {
      "text/plain": [
       "(20000, 682)"
      ]
     },
     "execution_count": 49,
     "metadata": {},
     "output_type": "execute_result"
    }
   ],
   "source": [
    "all_contacts_df.shape"
   ]
  },
  {
   "cell_type": "markdown",
   "metadata": {},
   "source": [
    "### Preparation Step 2. Prepare the Dataset for calculations with the data_preperation.py module. \n",
    "\n",
    "In this step, we take our dataframe and merge our per frame classifications file to it.\n",
    "\n",
    "We can also optionally perform several forms of filtering on the non-covalent interactions identified to select what types of interactions we would like to study.  "
   ]
  },
  {
   "cell_type": "code",
   "execution_count": 50,
   "metadata": {},
   "outputs": [
    {
     "name": "stdout",
     "output_type": "stream",
     "text": [
      "Your PyContact features and target variable have been succesufully merged.\n",
      "You can access this dataset through the class attribute: '.df_processed'.\n"
     ]
    }
   ],
   "source": [
    "# First we generate an instance of the SupervisedFeatureData class (because we have per frame target labels).\n",
    "supervised_dataset = data_preperation.SupervisedFeatureData(\n",
    "    input_df=all_contacts_df,\n",
    "    target_file=classifications_file,\n",
    "    is_classification=True,\n",
    "    header_present=False # If your target_file has a header present, set to True.\n",
    ")"
   ]
  },
  {
   "cell_type": "code",
   "execution_count": 51,
   "metadata": {},
   "outputs": [
    {
     "data": {
      "text/html": [
       "<div>\n",
       "<style scoped>\n",
       "    .dataframe tbody tr th:only-of-type {\n",
       "        vertical-align: middle;\n",
       "    }\n",
       "\n",
       "    .dataframe tbody tr th {\n",
       "        vertical-align: top;\n",
       "    }\n",
       "\n",
       "    .dataframe thead th {\n",
       "        text-align: right;\n",
       "    }\n",
       "</style>\n",
       "<table border=\"1\" class=\"dataframe\">\n",
       "  <thead>\n",
       "    <tr style=\"text-align: right;\">\n",
       "      <th></th>\n",
       "      <th>Target</th>\n",
       "      <th>3Pro 6Val Hydrophobic</th>\n",
       "      <th>2Leu 41Met Other</th>\n",
       "      <th>2Leu 43Val Hydrophobic</th>\n",
       "      <th>3Pro 43Val Hydrophobic</th>\n",
       "      <th>3Pro 65Asp Other</th>\n",
       "      <th>4Gln 42Gln Hbond</th>\n",
       "      <th>4Gln 43Val Other</th>\n",
       "      <th>4Gln 44Lys Hbond</th>\n",
       "      <th>5Thr 43Val Other</th>\n",
       "      <th>...</th>\n",
       "      <th>226Met 229Lys Hbond</th>\n",
       "      <th>226Met 230Tyr Other</th>\n",
       "      <th>227Ala 230Tyr Other</th>\n",
       "      <th>227Ala 231Phe Hydrophobic</th>\n",
       "      <th>227Ala 235Val Hydrophobic</th>\n",
       "      <th>228Lys 231Phe Hbond</th>\n",
       "      <th>228Lys 232Asp Saltbr</th>\n",
       "      <th>231Phe 235Val Hydrophobic</th>\n",
       "      <th>234Asn 237Gly Hbond</th>\n",
       "      <th>234Asn 238Asp Hbond</th>\n",
       "    </tr>\n",
       "  </thead>\n",
       "  <tbody>\n",
       "    <tr>\n",
       "      <th>0</th>\n",
       "      <td>open</td>\n",
       "      <td>0.5329</td>\n",
       "      <td>0.3142</td>\n",
       "      <td>0.2983</td>\n",
       "      <td>1.7172</td>\n",
       "      <td>0.0003</td>\n",
       "      <td>0.9915</td>\n",
       "      <td>4.2693</td>\n",
       "      <td>10.8300</td>\n",
       "      <td>0.0026</td>\n",
       "      <td>...</td>\n",
       "      <td>2.1654</td>\n",
       "      <td>2.5094</td>\n",
       "      <td>4.4450</td>\n",
       "      <td>8.2710</td>\n",
       "      <td>1.0146</td>\n",
       "      <td>4.8463</td>\n",
       "      <td>0.0174</td>\n",
       "      <td>4.6154</td>\n",
       "      <td>1.3497</td>\n",
       "      <td>0.0001</td>\n",
       "    </tr>\n",
       "    <tr>\n",
       "      <th>1</th>\n",
       "      <td>open</td>\n",
       "      <td>0.5528</td>\n",
       "      <td>0.2583</td>\n",
       "      <td>0.0727</td>\n",
       "      <td>2.0700</td>\n",
       "      <td>0.0002</td>\n",
       "      <td>0.0172</td>\n",
       "      <td>3.4245</td>\n",
       "      <td>5.3518</td>\n",
       "      <td>0.0174</td>\n",
       "      <td>...</td>\n",
       "      <td>4.1190</td>\n",
       "      <td>3.9452</td>\n",
       "      <td>3.3073</td>\n",
       "      <td>6.3502</td>\n",
       "      <td>0.5429</td>\n",
       "      <td>4.9758</td>\n",
       "      <td>0.2229</td>\n",
       "      <td>4.4195</td>\n",
       "      <td>1.2363</td>\n",
       "      <td>0.0001</td>\n",
       "    </tr>\n",
       "    <tr>\n",
       "      <th>2</th>\n",
       "      <td>open</td>\n",
       "      <td>0.1342</td>\n",
       "      <td>0.0135</td>\n",
       "      <td>0.0062</td>\n",
       "      <td>0.9421</td>\n",
       "      <td>0.0000</td>\n",
       "      <td>0.0011</td>\n",
       "      <td>2.7918</td>\n",
       "      <td>4.0636</td>\n",
       "      <td>0.0243</td>\n",
       "      <td>...</td>\n",
       "      <td>5.1370</td>\n",
       "      <td>3.2289</td>\n",
       "      <td>4.1669</td>\n",
       "      <td>5.8355</td>\n",
       "      <td>0.8972</td>\n",
       "      <td>3.4915</td>\n",
       "      <td>0.0256</td>\n",
       "      <td>2.4443</td>\n",
       "      <td>0.8852</td>\n",
       "      <td>0.0000</td>\n",
       "    </tr>\n",
       "    <tr>\n",
       "      <th>3</th>\n",
       "      <td>open</td>\n",
       "      <td>1.3588</td>\n",
       "      <td>1.2146</td>\n",
       "      <td>0.9647</td>\n",
       "      <td>2.8848</td>\n",
       "      <td>0.0107</td>\n",
       "      <td>0.0415</td>\n",
       "      <td>3.1210</td>\n",
       "      <td>6.1990</td>\n",
       "      <td>0.0108</td>\n",
       "      <td>...</td>\n",
       "      <td>2.6176</td>\n",
       "      <td>2.1097</td>\n",
       "      <td>4.2430</td>\n",
       "      <td>7.0550</td>\n",
       "      <td>0.3698</td>\n",
       "      <td>6.8199</td>\n",
       "      <td>2.8362</td>\n",
       "      <td>2.9558</td>\n",
       "      <td>1.7422</td>\n",
       "      <td>0.0001</td>\n",
       "    </tr>\n",
       "    <tr>\n",
       "      <th>4</th>\n",
       "      <td>open</td>\n",
       "      <td>5.9673</td>\n",
       "      <td>2.2893</td>\n",
       "      <td>1.5990</td>\n",
       "      <td>0.7918</td>\n",
       "      <td>0.8938</td>\n",
       "      <td>0.0028</td>\n",
       "      <td>2.8498</td>\n",
       "      <td>9.1154</td>\n",
       "      <td>0.0031</td>\n",
       "      <td>...</td>\n",
       "      <td>4.9873</td>\n",
       "      <td>1.2366</td>\n",
       "      <td>4.1340</td>\n",
       "      <td>6.3315</td>\n",
       "      <td>0.4919</td>\n",
       "      <td>4.1251</td>\n",
       "      <td>0.0650</td>\n",
       "      <td>3.1777</td>\n",
       "      <td>1.0016</td>\n",
       "      <td>0.0000</td>\n",
       "    </tr>\n",
       "    <tr>\n",
       "      <th>...</th>\n",
       "      <td>...</td>\n",
       "      <td>...</td>\n",
       "      <td>...</td>\n",
       "      <td>...</td>\n",
       "      <td>...</td>\n",
       "      <td>...</td>\n",
       "      <td>...</td>\n",
       "      <td>...</td>\n",
       "      <td>...</td>\n",
       "      <td>...</td>\n",
       "      <td>...</td>\n",
       "      <td>...</td>\n",
       "      <td>...</td>\n",
       "      <td>...</td>\n",
       "      <td>...</td>\n",
       "      <td>...</td>\n",
       "      <td>...</td>\n",
       "      <td>...</td>\n",
       "      <td>...</td>\n",
       "      <td>...</td>\n",
       "      <td>...</td>\n",
       "    </tr>\n",
       "    <tr>\n",
       "      <th>19995</th>\n",
       "      <td>closed</td>\n",
       "      <td>0.4880</td>\n",
       "      <td>0.2359</td>\n",
       "      <td>0.1829</td>\n",
       "      <td>2.6393</td>\n",
       "      <td>0.0007</td>\n",
       "      <td>0.0012</td>\n",
       "      <td>1.0653</td>\n",
       "      <td>6.7574</td>\n",
       "      <td>0.0961</td>\n",
       "      <td>...</td>\n",
       "      <td>6.0054</td>\n",
       "      <td>3.9118</td>\n",
       "      <td>1.9167</td>\n",
       "      <td>6.4007</td>\n",
       "      <td>0.7681</td>\n",
       "      <td>3.4088</td>\n",
       "      <td>0.0019</td>\n",
       "      <td>1.5845</td>\n",
       "      <td>3.3009</td>\n",
       "      <td>1.5278</td>\n",
       "    </tr>\n",
       "    <tr>\n",
       "      <th>19996</th>\n",
       "      <td>closed</td>\n",
       "      <td>1.0091</td>\n",
       "      <td>0.1129</td>\n",
       "      <td>1.1574</td>\n",
       "      <td>2.2330</td>\n",
       "      <td>0.0330</td>\n",
       "      <td>0.0028</td>\n",
       "      <td>1.7307</td>\n",
       "      <td>3.6708</td>\n",
       "      <td>0.0255</td>\n",
       "      <td>...</td>\n",
       "      <td>3.1211</td>\n",
       "      <td>2.4759</td>\n",
       "      <td>4.1000</td>\n",
       "      <td>6.4734</td>\n",
       "      <td>0.9019</td>\n",
       "      <td>3.4712</td>\n",
       "      <td>0.0006</td>\n",
       "      <td>2.9561</td>\n",
       "      <td>5.6275</td>\n",
       "      <td>0.0710</td>\n",
       "    </tr>\n",
       "    <tr>\n",
       "      <th>19997</th>\n",
       "      <td>closed</td>\n",
       "      <td>0.1184</td>\n",
       "      <td>0.1450</td>\n",
       "      <td>0.7409</td>\n",
       "      <td>1.1615</td>\n",
       "      <td>0.0001</td>\n",
       "      <td>0.0001</td>\n",
       "      <td>0.3604</td>\n",
       "      <td>3.6894</td>\n",
       "      <td>0.0345</td>\n",
       "      <td>...</td>\n",
       "      <td>4.0278</td>\n",
       "      <td>4.9154</td>\n",
       "      <td>4.2875</td>\n",
       "      <td>5.8551</td>\n",
       "      <td>0.4131</td>\n",
       "      <td>6.5720</td>\n",
       "      <td>0.0188</td>\n",
       "      <td>3.9111</td>\n",
       "      <td>9.7388</td>\n",
       "      <td>4.4154</td>\n",
       "    </tr>\n",
       "    <tr>\n",
       "      <th>19998</th>\n",
       "      <td>closed</td>\n",
       "      <td>0.0773</td>\n",
       "      <td>0.2530</td>\n",
       "      <td>0.8547</td>\n",
       "      <td>1.0210</td>\n",
       "      <td>0.0000</td>\n",
       "      <td>0.0074</td>\n",
       "      <td>1.8511</td>\n",
       "      <td>3.1967</td>\n",
       "      <td>0.1885</td>\n",
       "      <td>...</td>\n",
       "      <td>3.0864</td>\n",
       "      <td>2.9089</td>\n",
       "      <td>2.1531</td>\n",
       "      <td>5.3433</td>\n",
       "      <td>0.6042</td>\n",
       "      <td>3.3352</td>\n",
       "      <td>0.0230</td>\n",
       "      <td>4.5739</td>\n",
       "      <td>5.8783</td>\n",
       "      <td>5.2084</td>\n",
       "    </tr>\n",
       "    <tr>\n",
       "      <th>19999</th>\n",
       "      <td>closed</td>\n",
       "      <td>0.6078</td>\n",
       "      <td>0.7185</td>\n",
       "      <td>0.6242</td>\n",
       "      <td>0.1090</td>\n",
       "      <td>0.0001</td>\n",
       "      <td>0.0000</td>\n",
       "      <td>0.0006</td>\n",
       "      <td>3.3451</td>\n",
       "      <td>0.0109</td>\n",
       "      <td>...</td>\n",
       "      <td>5.7285</td>\n",
       "      <td>2.9889</td>\n",
       "      <td>3.4993</td>\n",
       "      <td>8.5351</td>\n",
       "      <td>1.1471</td>\n",
       "      <td>3.9990</td>\n",
       "      <td>0.0011</td>\n",
       "      <td>1.6116</td>\n",
       "      <td>10.0826</td>\n",
       "      <td>5.8489</td>\n",
       "    </tr>\n",
       "  </tbody>\n",
       "</table>\n",
       "<p>20000 rows × 683 columns</p>\n",
       "</div>"
      ],
      "text/plain": [
       "       Target  3Pro 6Val Hydrophobic  2Leu 41Met Other  \\\n",
       "0        open                 0.5329            0.3142   \n",
       "1        open                 0.5528            0.2583   \n",
       "2        open                 0.1342            0.0135   \n",
       "3        open                 1.3588            1.2146   \n",
       "4        open                 5.9673            2.2893   \n",
       "...       ...                    ...               ...   \n",
       "19995  closed                 0.4880            0.2359   \n",
       "19996  closed                 1.0091            0.1129   \n",
       "19997  closed                 0.1184            0.1450   \n",
       "19998  closed                 0.0773            0.2530   \n",
       "19999  closed                 0.6078            0.7185   \n",
       "\n",
       "       2Leu 43Val Hydrophobic  3Pro 43Val Hydrophobic  3Pro 65Asp Other  \\\n",
       "0                      0.2983                  1.7172            0.0003   \n",
       "1                      0.0727                  2.0700            0.0002   \n",
       "2                      0.0062                  0.9421            0.0000   \n",
       "3                      0.9647                  2.8848            0.0107   \n",
       "4                      1.5990                  0.7918            0.8938   \n",
       "...                       ...                     ...               ...   \n",
       "19995                  0.1829                  2.6393            0.0007   \n",
       "19996                  1.1574                  2.2330            0.0330   \n",
       "19997                  0.7409                  1.1615            0.0001   \n",
       "19998                  0.8547                  1.0210            0.0000   \n",
       "19999                  0.6242                  0.1090            0.0001   \n",
       "\n",
       "       4Gln 42Gln Hbond  4Gln 43Val Other  4Gln 44Lys Hbond  5Thr 43Val Other  \\\n",
       "0                0.9915            4.2693           10.8300            0.0026   \n",
       "1                0.0172            3.4245            5.3518            0.0174   \n",
       "2                0.0011            2.7918            4.0636            0.0243   \n",
       "3                0.0415            3.1210            6.1990            0.0108   \n",
       "4                0.0028            2.8498            9.1154            0.0031   \n",
       "...                 ...               ...               ...               ...   \n",
       "19995            0.0012            1.0653            6.7574            0.0961   \n",
       "19996            0.0028            1.7307            3.6708            0.0255   \n",
       "19997            0.0001            0.3604            3.6894            0.0345   \n",
       "19998            0.0074            1.8511            3.1967            0.1885   \n",
       "19999            0.0000            0.0006            3.3451            0.0109   \n",
       "\n",
       "       ...  226Met 229Lys Hbond  226Met 230Tyr Other  227Ala 230Tyr Other  \\\n",
       "0      ...               2.1654               2.5094               4.4450   \n",
       "1      ...               4.1190               3.9452               3.3073   \n",
       "2      ...               5.1370               3.2289               4.1669   \n",
       "3      ...               2.6176               2.1097               4.2430   \n",
       "4      ...               4.9873               1.2366               4.1340   \n",
       "...    ...                  ...                  ...                  ...   \n",
       "19995  ...               6.0054               3.9118               1.9167   \n",
       "19996  ...               3.1211               2.4759               4.1000   \n",
       "19997  ...               4.0278               4.9154               4.2875   \n",
       "19998  ...               3.0864               2.9089               2.1531   \n",
       "19999  ...               5.7285               2.9889               3.4993   \n",
       "\n",
       "       227Ala 231Phe Hydrophobic  227Ala 235Val Hydrophobic  \\\n",
       "0                         8.2710                     1.0146   \n",
       "1                         6.3502                     0.5429   \n",
       "2                         5.8355                     0.8972   \n",
       "3                         7.0550                     0.3698   \n",
       "4                         6.3315                     0.4919   \n",
       "...                          ...                        ...   \n",
       "19995                     6.4007                     0.7681   \n",
       "19996                     6.4734                     0.9019   \n",
       "19997                     5.8551                     0.4131   \n",
       "19998                     5.3433                     0.6042   \n",
       "19999                     8.5351                     1.1471   \n",
       "\n",
       "       228Lys 231Phe Hbond  228Lys 232Asp Saltbr  231Phe 235Val Hydrophobic  \\\n",
       "0                   4.8463                0.0174                     4.6154   \n",
       "1                   4.9758                0.2229                     4.4195   \n",
       "2                   3.4915                0.0256                     2.4443   \n",
       "3                   6.8199                2.8362                     2.9558   \n",
       "4                   4.1251                0.0650                     3.1777   \n",
       "...                    ...                   ...                        ...   \n",
       "19995               3.4088                0.0019                     1.5845   \n",
       "19996               3.4712                0.0006                     2.9561   \n",
       "19997               6.5720                0.0188                     3.9111   \n",
       "19998               3.3352                0.0230                     4.5739   \n",
       "19999               3.9990                0.0011                     1.6116   \n",
       "\n",
       "       234Asn 237Gly Hbond  234Asn 238Asp Hbond  \n",
       "0                   1.3497               0.0001  \n",
       "1                   1.2363               0.0001  \n",
       "2                   0.8852               0.0000  \n",
       "3                   1.7422               0.0001  \n",
       "4                   1.0016               0.0000  \n",
       "...                    ...                  ...  \n",
       "19995               3.3009               1.5278  \n",
       "19996               5.6275               0.0710  \n",
       "19997               9.7388               4.4154  \n",
       "19998               5.8783               5.2084  \n",
       "19999              10.0826               5.8489  \n",
       "\n",
       "[20000 rows x 683 columns]"
      ]
     },
     "execution_count": 51,
     "metadata": {},
     "output_type": "execute_result"
    }
   ],
   "source": [
    "# As stated above to access the newly generated dataframe we can use the class attribute as follows\n",
    "supervised_dataset.df_processed"
   ]
  },
  {
   "cell_type": "markdown",
   "metadata": {},
   "source": [
    "##### Optional Feature Filtering\n",
    "\n",
    "In the above dataframe we have n columns. We can take all of these forward for the statistical analysis or we can perform some filtering in advance (the choice is yours). \n",
    "There are five built in filtering methods available to you to perform filtering:\n",
    "\n",
    "1. **filter_by_occupancy(min_occupancy)** - Remove features that have an %occupancy less than the provided cut-off. %Occupancy is the % of frames with a non 0 value, i.e. the interaction is present in that frame.\n",
    "\n",
    "2. **filter_by_interaction_type(interaction_types_included)** - Inteactions are defined as one of four possible types: (\"Hbond\", \"Saltbr\", \"Hydrophobic\", \"Other\"). You select the interactions you want to include.\n",
    "\n",
    "3. **filter_by_avg_strength(average_strength_cut_off)** - Filter by the per frame contact score/strength for each interaction. You can filter features by the average score. Values below the cut-off are removed. \n",
    "\n",
    "4. **filter_by_occupancy_by_class(min_occupancy)** - Special alternative to the the standard filter features by occupancy method. %occupancy is determined for each class (as opposed to whole dataset), meaning only observations from 1 class have to meet the cut-off to keep the feature. Only avaible to datasets with a categorical target variable (classification). \n",
    "\n",
    "\n",
    "Finally if at any point in time you want to reset any filtering you've already performed, you can use the following method: \n",
    "\n",
    "5. **reset_filtering()** \n"
   ]
  },
  {
   "cell_type": "code",
   "execution_count": 52,
   "metadata": {},
   "outputs": [
    {
     "name": "stdout",
     "output_type": "stream",
     "text": [
      "Number of features before any filtering: 682\n",
      "Number of features after filtering by occupancy: 681\n",
      "Number of features after filtering by interaction type: 378\n",
      "Number of features after filtering by average interaction scores: 334\n"
     ]
    }
   ],
   "source": [
    "# An example of filtering the dataset using the available methods. \n",
    "supervised_dataset.reset_filtering() \n",
    "print(f\"Number of features before any filtering: {len(supervised_dataset.df_processed.columns) - 1}\")\n",
    "\n",
    "# Features with a %occupancy of less than 25% are removed. \n",
    "supervised_dataset.filter_by_occupancy_by_class(min_occupancy=25)\n",
    "print(f\"Number of features after filtering by occupancy: {len(supervised_dataset.df_filtered.columns) - 1}\")\n",
    "\n",
    "# Remove features with interaction type \"Other\". \n",
    "supervised_dataset.filter_by_interaction_type(\n",
    "    interaction_types_included=[\"Hbond\", \"Saltbr\", \"Hydrophobic\"]) \n",
    "print(f\"Number of features after filtering by interaction type: {len(supervised_dataset.df_filtered.columns) - 1}\")\n",
    "\n",
    "# Features with an average interaction strength less than 0.5 will be removed. \n",
    "supervised_dataset.filter_by_avg_strength(\n",
    "    average_strength_cut_off=0.5,  \n",
    ")\n",
    "print(f\"Number of features after filtering by average interaction scores: {len(supervised_dataset.df_filtered.columns) - 1}\")"
   ]
  },
  {
   "cell_type": "markdown",
   "metadata": {},
   "source": [
    "Now if we look at the class attributes of our SupervisedFeatureData() instance (we called it: supervised_dataset) using the special \"\\_\\_dict__\" method we can see two dataframes we could use in the statistical analysis to follow. "
   ]
  },
  {
   "cell_type": "code",
   "execution_count": 53,
   "metadata": {},
   "outputs": [
    {
     "data": {
      "text/plain": [
       "dict_keys(['input_df', 'is_classification', 'target_file', 'header_present', 'df_processed', 'df_filtered'])"
      ]
     },
     "execution_count": 53,
     "metadata": {},
     "output_type": "execute_result"
    }
   ],
   "source": [
    "supervised_dataset.__dict__.keys()"
   ]
  },
  {
   "cell_type": "markdown",
   "metadata": {},
   "source": [
    "They are: \n",
    "- 'df_processed' - The unfiltered dataframe\n",
    "- 'df_filtered' - The filtered dataframe\n",
    "\n",
    "In the following sections we will use the filtered dataframe but either dataframe could be justified based on your goals. "
   ]
  },
  {
   "cell_type": "code",
   "execution_count": 54,
   "metadata": {},
   "outputs": [
    {
     "data": {
      "text/html": [
       "<div>\n",
       "<style scoped>\n",
       "    .dataframe tbody tr th:only-of-type {\n",
       "        vertical-align: middle;\n",
       "    }\n",
       "\n",
       "    .dataframe tbody tr th {\n",
       "        vertical-align: top;\n",
       "    }\n",
       "\n",
       "    .dataframe thead th {\n",
       "        text-align: right;\n",
       "    }\n",
       "</style>\n",
       "<table border=\"1\" class=\"dataframe\">\n",
       "  <thead>\n",
       "    <tr style=\"text-align: right;\">\n",
       "      <th></th>\n",
       "      <th>Target</th>\n",
       "      <th>98Lys 178Tyr Hbond</th>\n",
       "      <th>98Lys 177Glu Saltbr</th>\n",
       "      <th>98Lys 176Lys Hbond</th>\n",
       "      <th>97Ala 150Leu Hydrophobic</th>\n",
       "      <th>97Ala 100Ser Hbond</th>\n",
       "      <th>96Ala 181Ala Hydrophobic</th>\n",
       "      <th>96Ala 179Ala Hydrophobic</th>\n",
       "      <th>96Ala 102Ile Hydrophobic</th>\n",
       "      <th>95Ile 180Phe Hydrophobic</th>\n",
       "      <th>...</th>\n",
       "      <th>105Thr 108Ser Hbond</th>\n",
       "      <th>104Pro 183Pro Hydrophobic</th>\n",
       "      <th>104Pro 181Ala Hydrophobic</th>\n",
       "      <th>104Pro 130Trp Hbond</th>\n",
       "      <th>104Pro 109Leu Hydrophobic</th>\n",
       "      <th>103Gln 181Ala Hbond</th>\n",
       "      <th>103Gln 108Ser Hbond</th>\n",
       "      <th>102Ile 181Ala Hydrophobic</th>\n",
       "      <th>102Ile 109Leu Hydrophobic</th>\n",
       "      <th>100Ser 156Asp Hbond</th>\n",
       "    </tr>\n",
       "  </thead>\n",
       "  <tbody>\n",
       "    <tr>\n",
       "      <th>0</th>\n",
       "      <td>open</td>\n",
       "      <td>2.2196</td>\n",
       "      <td>6.6927</td>\n",
       "      <td>2.9951</td>\n",
       "      <td>0.0004</td>\n",
       "      <td>5.3226</td>\n",
       "      <td>0.2566</td>\n",
       "      <td>5.8188</td>\n",
       "      <td>0.6773</td>\n",
       "      <td>2.2829</td>\n",
       "      <td>...</td>\n",
       "      <td>4.8184</td>\n",
       "      <td>1.0332</td>\n",
       "      <td>2.7846</td>\n",
       "      <td>0.0048</td>\n",
       "      <td>0.1555</td>\n",
       "      <td>0.2941</td>\n",
       "      <td>5.4690</td>\n",
       "      <td>1.0816</td>\n",
       "      <td>0.2628</td>\n",
       "      <td>0.0002</td>\n",
       "    </tr>\n",
       "    <tr>\n",
       "      <th>1</th>\n",
       "      <td>open</td>\n",
       "      <td>3.4723</td>\n",
       "      <td>5.4602</td>\n",
       "      <td>1.6337</td>\n",
       "      <td>0.0009</td>\n",
       "      <td>5.2617</td>\n",
       "      <td>0.8459</td>\n",
       "      <td>7.7100</td>\n",
       "      <td>0.4893</td>\n",
       "      <td>1.2165</td>\n",
       "      <td>...</td>\n",
       "      <td>6.6230</td>\n",
       "      <td>1.4998</td>\n",
       "      <td>2.1896</td>\n",
       "      <td>1.7524</td>\n",
       "      <td>0.0323</td>\n",
       "      <td>0.0495</td>\n",
       "      <td>5.9963</td>\n",
       "      <td>1.8600</td>\n",
       "      <td>0.8436</td>\n",
       "      <td>0.0003</td>\n",
       "    </tr>\n",
       "    <tr>\n",
       "      <th>2</th>\n",
       "      <td>open</td>\n",
       "      <td>5.5151</td>\n",
       "      <td>5.9816</td>\n",
       "      <td>3.4247</td>\n",
       "      <td>0.0002</td>\n",
       "      <td>3.0168</td>\n",
       "      <td>0.8234</td>\n",
       "      <td>7.2058</td>\n",
       "      <td>2.4520</td>\n",
       "      <td>2.4205</td>\n",
       "      <td>...</td>\n",
       "      <td>5.2565</td>\n",
       "      <td>1.0581</td>\n",
       "      <td>4.1095</td>\n",
       "      <td>0.7932</td>\n",
       "      <td>1.9413</td>\n",
       "      <td>0.3060</td>\n",
       "      <td>5.9519</td>\n",
       "      <td>1.2689</td>\n",
       "      <td>0.0745</td>\n",
       "      <td>0.0001</td>\n",
       "    </tr>\n",
       "    <tr>\n",
       "      <th>3</th>\n",
       "      <td>open</td>\n",
       "      <td>4.0564</td>\n",
       "      <td>7.7428</td>\n",
       "      <td>1.3108</td>\n",
       "      <td>0.0006</td>\n",
       "      <td>3.2617</td>\n",
       "      <td>0.2080</td>\n",
       "      <td>7.4634</td>\n",
       "      <td>0.0106</td>\n",
       "      <td>1.8717</td>\n",
       "      <td>...</td>\n",
       "      <td>5.3120</td>\n",
       "      <td>0.8045</td>\n",
       "      <td>2.5094</td>\n",
       "      <td>3.0193</td>\n",
       "      <td>0.3131</td>\n",
       "      <td>0.3684</td>\n",
       "      <td>7.3297</td>\n",
       "      <td>1.0753</td>\n",
       "      <td>1.0128</td>\n",
       "      <td>0.0000</td>\n",
       "    </tr>\n",
       "    <tr>\n",
       "      <th>4</th>\n",
       "      <td>open</td>\n",
       "      <td>2.0435</td>\n",
       "      <td>7.8003</td>\n",
       "      <td>0.0065</td>\n",
       "      <td>0.0002</td>\n",
       "      <td>2.7963</td>\n",
       "      <td>0.4199</td>\n",
       "      <td>6.8458</td>\n",
       "      <td>0.0094</td>\n",
       "      <td>2.9681</td>\n",
       "      <td>...</td>\n",
       "      <td>3.4638</td>\n",
       "      <td>0.0048</td>\n",
       "      <td>0.8998</td>\n",
       "      <td>1.7571</td>\n",
       "      <td>0.0786</td>\n",
       "      <td>0.0083</td>\n",
       "      <td>4.2944</td>\n",
       "      <td>1.2352</td>\n",
       "      <td>0.7117</td>\n",
       "      <td>0.0002</td>\n",
       "    </tr>\n",
       "    <tr>\n",
       "      <th>...</th>\n",
       "      <td>...</td>\n",
       "      <td>...</td>\n",
       "      <td>...</td>\n",
       "      <td>...</td>\n",
       "      <td>...</td>\n",
       "      <td>...</td>\n",
       "      <td>...</td>\n",
       "      <td>...</td>\n",
       "      <td>...</td>\n",
       "      <td>...</td>\n",
       "      <td>...</td>\n",
       "      <td>...</td>\n",
       "      <td>...</td>\n",
       "      <td>...</td>\n",
       "      <td>...</td>\n",
       "      <td>...</td>\n",
       "      <td>...</td>\n",
       "      <td>...</td>\n",
       "      <td>...</td>\n",
       "      <td>...</td>\n",
       "      <td>...</td>\n",
       "    </tr>\n",
       "    <tr>\n",
       "      <th>19995</th>\n",
       "      <td>closed</td>\n",
       "      <td>0.0023</td>\n",
       "      <td>3.1732</td>\n",
       "      <td>0.0000</td>\n",
       "      <td>1.8152</td>\n",
       "      <td>0.4719</td>\n",
       "      <td>0.5818</td>\n",
       "      <td>8.1799</td>\n",
       "      <td>0.1490</td>\n",
       "      <td>2.0036</td>\n",
       "      <td>...</td>\n",
       "      <td>4.8733</td>\n",
       "      <td>1.4102</td>\n",
       "      <td>3.2694</td>\n",
       "      <td>4.6895</td>\n",
       "      <td>0.9302</td>\n",
       "      <td>1.8504</td>\n",
       "      <td>4.8606</td>\n",
       "      <td>3.7057</td>\n",
       "      <td>0.3970</td>\n",
       "      <td>0.0018</td>\n",
       "    </tr>\n",
       "    <tr>\n",
       "      <th>19996</th>\n",
       "      <td>closed</td>\n",
       "      <td>0.0066</td>\n",
       "      <td>7.6948</td>\n",
       "      <td>0.0000</td>\n",
       "      <td>0.3681</td>\n",
       "      <td>3.1753</td>\n",
       "      <td>0.4313</td>\n",
       "      <td>3.6710</td>\n",
       "      <td>0.0375</td>\n",
       "      <td>2.1168</td>\n",
       "      <td>...</td>\n",
       "      <td>3.7049</td>\n",
       "      <td>1.7590</td>\n",
       "      <td>3.5458</td>\n",
       "      <td>0.2265</td>\n",
       "      <td>0.5534</td>\n",
       "      <td>0.1001</td>\n",
       "      <td>5.5715</td>\n",
       "      <td>1.0861</td>\n",
       "      <td>1.0581</td>\n",
       "      <td>0.0019</td>\n",
       "    </tr>\n",
       "    <tr>\n",
       "      <th>19997</th>\n",
       "      <td>closed</td>\n",
       "      <td>0.0183</td>\n",
       "      <td>9.2752</td>\n",
       "      <td>0.0000</td>\n",
       "      <td>0.4273</td>\n",
       "      <td>0.1219</td>\n",
       "      <td>1.5541</td>\n",
       "      <td>5.1516</td>\n",
       "      <td>0.0410</td>\n",
       "      <td>5.1020</td>\n",
       "      <td>...</td>\n",
       "      <td>5.9729</td>\n",
       "      <td>3.9002</td>\n",
       "      <td>2.2463</td>\n",
       "      <td>0.6757</td>\n",
       "      <td>0.3026</td>\n",
       "      <td>1.2901</td>\n",
       "      <td>5.4080</td>\n",
       "      <td>3.1844</td>\n",
       "      <td>0.2420</td>\n",
       "      <td>0.0274</td>\n",
       "    </tr>\n",
       "    <tr>\n",
       "      <th>19998</th>\n",
       "      <td>closed</td>\n",
       "      <td>0.0021</td>\n",
       "      <td>5.7598</td>\n",
       "      <td>0.0000</td>\n",
       "      <td>0.6639</td>\n",
       "      <td>1.2664</td>\n",
       "      <td>1.8053</td>\n",
       "      <td>5.7275</td>\n",
       "      <td>0.3167</td>\n",
       "      <td>2.8219</td>\n",
       "      <td>...</td>\n",
       "      <td>5.2653</td>\n",
       "      <td>0.4635</td>\n",
       "      <td>1.1681</td>\n",
       "      <td>0.1201</td>\n",
       "      <td>0.3305</td>\n",
       "      <td>0.3161</td>\n",
       "      <td>5.2517</td>\n",
       "      <td>4.0943</td>\n",
       "      <td>0.0853</td>\n",
       "      <td>0.0031</td>\n",
       "    </tr>\n",
       "    <tr>\n",
       "      <th>19999</th>\n",
       "      <td>closed</td>\n",
       "      <td>0.0056</td>\n",
       "      <td>2.6079</td>\n",
       "      <td>0.0000</td>\n",
       "      <td>0.2026</td>\n",
       "      <td>0.0344</td>\n",
       "      <td>0.5460</td>\n",
       "      <td>6.0844</td>\n",
       "      <td>0.0008</td>\n",
       "      <td>1.0951</td>\n",
       "      <td>...</td>\n",
       "      <td>5.4346</td>\n",
       "      <td>1.1125</td>\n",
       "      <td>0.7624</td>\n",
       "      <td>0.9992</td>\n",
       "      <td>2.5416</td>\n",
       "      <td>1.3415</td>\n",
       "      <td>7.1992</td>\n",
       "      <td>5.7498</td>\n",
       "      <td>0.0974</td>\n",
       "      <td>0.0020</td>\n",
       "    </tr>\n",
       "  </tbody>\n",
       "</table>\n",
       "<p>20000 rows × 335 columns</p>\n",
       "</div>"
      ],
      "text/plain": [
       "       Target  98Lys 178Tyr Hbond  98Lys 177Glu Saltbr  98Lys 176Lys Hbond  \\\n",
       "0        open              2.2196               6.6927              2.9951   \n",
       "1        open              3.4723               5.4602              1.6337   \n",
       "2        open              5.5151               5.9816              3.4247   \n",
       "3        open              4.0564               7.7428              1.3108   \n",
       "4        open              2.0435               7.8003              0.0065   \n",
       "...       ...                 ...                  ...                 ...   \n",
       "19995  closed              0.0023               3.1732              0.0000   \n",
       "19996  closed              0.0066               7.6948              0.0000   \n",
       "19997  closed              0.0183               9.2752              0.0000   \n",
       "19998  closed              0.0021               5.7598              0.0000   \n",
       "19999  closed              0.0056               2.6079              0.0000   \n",
       "\n",
       "       97Ala 150Leu Hydrophobic  97Ala 100Ser Hbond  96Ala 181Ala Hydrophobic  \\\n",
       "0                        0.0004              5.3226                    0.2566   \n",
       "1                        0.0009              5.2617                    0.8459   \n",
       "2                        0.0002              3.0168                    0.8234   \n",
       "3                        0.0006              3.2617                    0.2080   \n",
       "4                        0.0002              2.7963                    0.4199   \n",
       "...                         ...                 ...                       ...   \n",
       "19995                    1.8152              0.4719                    0.5818   \n",
       "19996                    0.3681              3.1753                    0.4313   \n",
       "19997                    0.4273              0.1219                    1.5541   \n",
       "19998                    0.6639              1.2664                    1.8053   \n",
       "19999                    0.2026              0.0344                    0.5460   \n",
       "\n",
       "       96Ala 179Ala Hydrophobic  96Ala 102Ile Hydrophobic  \\\n",
       "0                        5.8188                    0.6773   \n",
       "1                        7.7100                    0.4893   \n",
       "2                        7.2058                    2.4520   \n",
       "3                        7.4634                    0.0106   \n",
       "4                        6.8458                    0.0094   \n",
       "...                         ...                       ...   \n",
       "19995                    8.1799                    0.1490   \n",
       "19996                    3.6710                    0.0375   \n",
       "19997                    5.1516                    0.0410   \n",
       "19998                    5.7275                    0.3167   \n",
       "19999                    6.0844                    0.0008   \n",
       "\n",
       "       95Ile 180Phe Hydrophobic  ...  105Thr 108Ser Hbond  \\\n",
       "0                        2.2829  ...               4.8184   \n",
       "1                        1.2165  ...               6.6230   \n",
       "2                        2.4205  ...               5.2565   \n",
       "3                        1.8717  ...               5.3120   \n",
       "4                        2.9681  ...               3.4638   \n",
       "...                         ...  ...                  ...   \n",
       "19995                    2.0036  ...               4.8733   \n",
       "19996                    2.1168  ...               3.7049   \n",
       "19997                    5.1020  ...               5.9729   \n",
       "19998                    2.8219  ...               5.2653   \n",
       "19999                    1.0951  ...               5.4346   \n",
       "\n",
       "       104Pro 183Pro Hydrophobic  104Pro 181Ala Hydrophobic  \\\n",
       "0                         1.0332                     2.7846   \n",
       "1                         1.4998                     2.1896   \n",
       "2                         1.0581                     4.1095   \n",
       "3                         0.8045                     2.5094   \n",
       "4                         0.0048                     0.8998   \n",
       "...                          ...                        ...   \n",
       "19995                     1.4102                     3.2694   \n",
       "19996                     1.7590                     3.5458   \n",
       "19997                     3.9002                     2.2463   \n",
       "19998                     0.4635                     1.1681   \n",
       "19999                     1.1125                     0.7624   \n",
       "\n",
       "       104Pro 130Trp Hbond  104Pro 109Leu Hydrophobic  103Gln 181Ala Hbond  \\\n",
       "0                   0.0048                     0.1555               0.2941   \n",
       "1                   1.7524                     0.0323               0.0495   \n",
       "2                   0.7932                     1.9413               0.3060   \n",
       "3                   3.0193                     0.3131               0.3684   \n",
       "4                   1.7571                     0.0786               0.0083   \n",
       "...                    ...                        ...                  ...   \n",
       "19995               4.6895                     0.9302               1.8504   \n",
       "19996               0.2265                     0.5534               0.1001   \n",
       "19997               0.6757                     0.3026               1.2901   \n",
       "19998               0.1201                     0.3305               0.3161   \n",
       "19999               0.9992                     2.5416               1.3415   \n",
       "\n",
       "       103Gln 108Ser Hbond  102Ile 181Ala Hydrophobic  \\\n",
       "0                   5.4690                     1.0816   \n",
       "1                   5.9963                     1.8600   \n",
       "2                   5.9519                     1.2689   \n",
       "3                   7.3297                     1.0753   \n",
       "4                   4.2944                     1.2352   \n",
       "...                    ...                        ...   \n",
       "19995               4.8606                     3.7057   \n",
       "19996               5.5715                     1.0861   \n",
       "19997               5.4080                     3.1844   \n",
       "19998               5.2517                     4.0943   \n",
       "19999               7.1992                     5.7498   \n",
       "\n",
       "       102Ile 109Leu Hydrophobic  100Ser 156Asp Hbond  \n",
       "0                         0.2628               0.0002  \n",
       "1                         0.8436               0.0003  \n",
       "2                         0.0745               0.0001  \n",
       "3                         1.0128               0.0000  \n",
       "4                         0.7117               0.0002  \n",
       "...                          ...                  ...  \n",
       "19995                     0.3970               0.0018  \n",
       "19996                     1.0581               0.0019  \n",
       "19997                     0.2420               0.0274  \n",
       "19998                     0.0853               0.0031  \n",
       "19999                     0.0974               0.0020  \n",
       "\n",
       "[20000 rows x 335 columns]"
      ]
     },
     "execution_count": 54,
     "metadata": {},
     "output_type": "execute_result"
    }
   ],
   "source": [
    "supervised_dataset.df_filtered"
   ]
  },
  {
   "cell_type": "code",
   "execution_count": 55,
   "metadata": {},
   "outputs": [
    {
     "data": {
      "text/plain": [
       "np.False_"
      ]
     },
     "execution_count": 55,
     "metadata": {},
     "output_type": "execute_result"
    }
   ],
   "source": [
    "supervised_dataset.df_filtered.isnull().values.any()"
   ]
  },
  {
   "cell_type": "code",
   "execution_count": 56,
   "metadata": {},
   "outputs": [
    {
     "data": {
      "text/plain": [
       "(20000, 335)"
      ]
     },
     "execution_count": 56,
     "metadata": {},
     "output_type": "execute_result"
    }
   ],
   "source": [
    "supervised_dataset.df_filtered.shape"
   ]
  },
  {
   "cell_type": "code",
   "execution_count": 23,
   "metadata": {},
   "outputs": [
    {
     "data": {
      "text/html": [
       "<div>\n",
       "<style scoped>\n",
       "    .dataframe tbody tr th:only-of-type {\n",
       "        vertical-align: middle;\n",
       "    }\n",
       "\n",
       "    .dataframe tbody tr th {\n",
       "        vertical-align: top;\n",
       "    }\n",
       "\n",
       "    .dataframe thead th {\n",
       "        text-align: right;\n",
       "    }\n",
       "</style>\n",
       "<table border=\"1\" class=\"dataframe\">\n",
       "  <thead>\n",
       "    <tr style=\"text-align: right;\">\n",
       "      <th></th>\n",
       "      <th>Target</th>\n",
       "      <th>9Gly 69Ser Hbond</th>\n",
       "      <th>9Gly 50Ser Hbond</th>\n",
       "      <th>98Lys 178Tyr Hbond</th>\n",
       "      <th>98Lys 177Glu Saltbr</th>\n",
       "      <th>98Lys 176Lys Hbond</th>\n",
       "      <th>97Ala 155Leu Hydrophobic</th>\n",
       "      <th>97Ala 150Leu Hydrophobic</th>\n",
       "      <th>97Ala 100Ser Hbond</th>\n",
       "      <th>96Ala 181Ala Hydrophobic</th>\n",
       "      <th>...</th>\n",
       "      <th>104Pro 181Ala Hydrophobic</th>\n",
       "      <th>104Pro 130Trp Hbond</th>\n",
       "      <th>104Pro 109Leu Hydrophobic</th>\n",
       "      <th>103Gln 181Ala Hbond</th>\n",
       "      <th>103Gln 108Ser Hbond</th>\n",
       "      <th>102Ile 181Ala Hydrophobic</th>\n",
       "      <th>102Ile 109Leu Hydrophobic</th>\n",
       "      <th>101Pro 181Ala Hydrophobic</th>\n",
       "      <th>101Pro 108Ser Hbond</th>\n",
       "      <th>100Ser 112Lys Hbond</th>\n",
       "    </tr>\n",
       "  </thead>\n",
       "  <tbody>\n",
       "    <tr>\n",
       "      <th>0</th>\n",
       "      <td>open</td>\n",
       "      <td>0.1501</td>\n",
       "      <td>1.1166</td>\n",
       "      <td>2.2196</td>\n",
       "      <td>6.6927</td>\n",
       "      <td>2.9951</td>\n",
       "      <td>0.0000</td>\n",
       "      <td>0.0004</td>\n",
       "      <td>5.3226</td>\n",
       "      <td>0.2566</td>\n",
       "      <td>...</td>\n",
       "      <td>2.7846</td>\n",
       "      <td>0.0048</td>\n",
       "      <td>0.1555</td>\n",
       "      <td>0.2941</td>\n",
       "      <td>5.4690</td>\n",
       "      <td>1.0816</td>\n",
       "      <td>0.2628</td>\n",
       "      <td>0.0000</td>\n",
       "      <td>1.1458</td>\n",
       "      <td>0.0000</td>\n",
       "    </tr>\n",
       "    <tr>\n",
       "      <th>1</th>\n",
       "      <td>open</td>\n",
       "      <td>0.0154</td>\n",
       "      <td>2.5704</td>\n",
       "      <td>3.4723</td>\n",
       "      <td>5.4602</td>\n",
       "      <td>1.6337</td>\n",
       "      <td>0.0000</td>\n",
       "      <td>0.0009</td>\n",
       "      <td>5.2617</td>\n",
       "      <td>0.8459</td>\n",
       "      <td>...</td>\n",
       "      <td>2.1896</td>\n",
       "      <td>1.7524</td>\n",
       "      <td>0.0323</td>\n",
       "      <td>0.0495</td>\n",
       "      <td>5.9963</td>\n",
       "      <td>1.8600</td>\n",
       "      <td>0.8436</td>\n",
       "      <td>0.0000</td>\n",
       "      <td>0.8567</td>\n",
       "      <td>0.0000</td>\n",
       "    </tr>\n",
       "    <tr>\n",
       "      <th>2</th>\n",
       "      <td>open</td>\n",
       "      <td>0.0175</td>\n",
       "      <td>0.5351</td>\n",
       "      <td>5.5151</td>\n",
       "      <td>5.9816</td>\n",
       "      <td>3.4247</td>\n",
       "      <td>0.0002</td>\n",
       "      <td>0.0002</td>\n",
       "      <td>3.0168</td>\n",
       "      <td>0.8234</td>\n",
       "      <td>...</td>\n",
       "      <td>4.1095</td>\n",
       "      <td>0.7932</td>\n",
       "      <td>1.9413</td>\n",
       "      <td>0.3060</td>\n",
       "      <td>5.9519</td>\n",
       "      <td>1.2689</td>\n",
       "      <td>0.0745</td>\n",
       "      <td>0.0000</td>\n",
       "      <td>1.0575</td>\n",
       "      <td>0.8949</td>\n",
       "    </tr>\n",
       "    <tr>\n",
       "      <th>3</th>\n",
       "      <td>open</td>\n",
       "      <td>0.0176</td>\n",
       "      <td>1.6425</td>\n",
       "      <td>4.0564</td>\n",
       "      <td>7.7428</td>\n",
       "      <td>1.3108</td>\n",
       "      <td>0.0000</td>\n",
       "      <td>0.0006</td>\n",
       "      <td>3.2617</td>\n",
       "      <td>0.2080</td>\n",
       "      <td>...</td>\n",
       "      <td>2.5094</td>\n",
       "      <td>3.0193</td>\n",
       "      <td>0.3131</td>\n",
       "      <td>0.3684</td>\n",
       "      <td>7.3297</td>\n",
       "      <td>1.0753</td>\n",
       "      <td>1.0128</td>\n",
       "      <td>0.0000</td>\n",
       "      <td>0.0336</td>\n",
       "      <td>0.0000</td>\n",
       "    </tr>\n",
       "    <tr>\n",
       "      <th>4</th>\n",
       "      <td>open</td>\n",
       "      <td>0.1046</td>\n",
       "      <td>0.6542</td>\n",
       "      <td>2.0435</td>\n",
       "      <td>7.8003</td>\n",
       "      <td>0.0065</td>\n",
       "      <td>0.0000</td>\n",
       "      <td>0.0002</td>\n",
       "      <td>2.7963</td>\n",
       "      <td>0.4199</td>\n",
       "      <td>...</td>\n",
       "      <td>0.8998</td>\n",
       "      <td>1.7571</td>\n",
       "      <td>0.0786</td>\n",
       "      <td>0.0083</td>\n",
       "      <td>4.2944</td>\n",
       "      <td>1.2352</td>\n",
       "      <td>0.7117</td>\n",
       "      <td>0.0000</td>\n",
       "      <td>0.0107</td>\n",
       "      <td>0.0000</td>\n",
       "    </tr>\n",
       "    <tr>\n",
       "      <th>...</th>\n",
       "      <td>...</td>\n",
       "      <td>...</td>\n",
       "      <td>...</td>\n",
       "      <td>...</td>\n",
       "      <td>...</td>\n",
       "      <td>...</td>\n",
       "      <td>...</td>\n",
       "      <td>...</td>\n",
       "      <td>...</td>\n",
       "      <td>...</td>\n",
       "      <td>...</td>\n",
       "      <td>...</td>\n",
       "      <td>...</td>\n",
       "      <td>...</td>\n",
       "      <td>...</td>\n",
       "      <td>...</td>\n",
       "      <td>...</td>\n",
       "      <td>...</td>\n",
       "      <td>...</td>\n",
       "      <td>...</td>\n",
       "      <td>...</td>\n",
       "    </tr>\n",
       "    <tr>\n",
       "      <th>19995</th>\n",
       "      <td>closed</td>\n",
       "      <td>3.5565</td>\n",
       "      <td>0.0083</td>\n",
       "      <td>6.2767</td>\n",
       "      <td>3.1251</td>\n",
       "      <td>9.2131</td>\n",
       "      <td>2.2660</td>\n",
       "      <td>3.7325</td>\n",
       "      <td>7.0304</td>\n",
       "      <td>4.8733</td>\n",
       "      <td>...</td>\n",
       "      <td>1.3207</td>\n",
       "      <td>3.8751</td>\n",
       "      <td>8.2662</td>\n",
       "      <td>0.3503</td>\n",
       "      <td>5.3229</td>\n",
       "      <td>0.4944</td>\n",
       "      <td>2.3400</td>\n",
       "      <td>1.5735</td>\n",
       "      <td>3.1447</td>\n",
       "      <td>6.2437</td>\n",
       "    </tr>\n",
       "    <tr>\n",
       "      <th>19996</th>\n",
       "      <td>closed</td>\n",
       "      <td>3.2376</td>\n",
       "      <td>0.0049</td>\n",
       "      <td>6.9223</td>\n",
       "      <td>0.9784</td>\n",
       "      <td>13.0024</td>\n",
       "      <td>1.9252</td>\n",
       "      <td>6.2159</td>\n",
       "      <td>7.2790</td>\n",
       "      <td>3.7049</td>\n",
       "      <td>...</td>\n",
       "      <td>1.1520</td>\n",
       "      <td>2.8340</td>\n",
       "      <td>10.9411</td>\n",
       "      <td>0.8394</td>\n",
       "      <td>3.7553</td>\n",
       "      <td>1.5075</td>\n",
       "      <td>3.5444</td>\n",
       "      <td>0.2138</td>\n",
       "      <td>1.7076</td>\n",
       "      <td>3.9411</td>\n",
       "    </tr>\n",
       "    <tr>\n",
       "      <th>19997</th>\n",
       "      <td>closed</td>\n",
       "      <td>3.2663</td>\n",
       "      <td>0.0009</td>\n",
       "      <td>8.4582</td>\n",
       "      <td>1.3587</td>\n",
       "      <td>7.8868</td>\n",
       "      <td>2.9809</td>\n",
       "      <td>7.0876</td>\n",
       "      <td>6.7292</td>\n",
       "      <td>5.9729</td>\n",
       "      <td>...</td>\n",
       "      <td>0.2944</td>\n",
       "      <td>1.6534</td>\n",
       "      <td>7.3688</td>\n",
       "      <td>0.1596</td>\n",
       "      <td>5.9558</td>\n",
       "      <td>2.0222</td>\n",
       "      <td>0.2322</td>\n",
       "      <td>0.0003</td>\n",
       "      <td>1.0424</td>\n",
       "      <td>3.2056</td>\n",
       "    </tr>\n",
       "    <tr>\n",
       "      <th>19998</th>\n",
       "      <td>closed</td>\n",
       "      <td>3.1762</td>\n",
       "      <td>0.0577</td>\n",
       "      <td>6.1486</td>\n",
       "      <td>1.4210</td>\n",
       "      <td>11.0404</td>\n",
       "      <td>3.2518</td>\n",
       "      <td>4.1630</td>\n",
       "      <td>6.3636</td>\n",
       "      <td>5.2653</td>\n",
       "      <td>...</td>\n",
       "      <td>1.8807</td>\n",
       "      <td>3.4687</td>\n",
       "      <td>10.9918</td>\n",
       "      <td>0.4895</td>\n",
       "      <td>4.0539</td>\n",
       "      <td>2.0900</td>\n",
       "      <td>2.1292</td>\n",
       "      <td>1.6673</td>\n",
       "      <td>2.7152</td>\n",
       "      <td>7.6738</td>\n",
       "    </tr>\n",
       "    <tr>\n",
       "      <th>19999</th>\n",
       "      <td>closed</td>\n",
       "      <td>3.9969</td>\n",
       "      <td>0.0021</td>\n",
       "      <td>4.1860</td>\n",
       "      <td>4.6295</td>\n",
       "      <td>8.0932</td>\n",
       "      <td>2.1804</td>\n",
       "      <td>5.9731</td>\n",
       "      <td>4.3290</td>\n",
       "      <td>5.4346</td>\n",
       "      <td>...</td>\n",
       "      <td>0.0660</td>\n",
       "      <td>2.8103</td>\n",
       "      <td>5.3212</td>\n",
       "      <td>0.0699</td>\n",
       "      <td>4.4220</td>\n",
       "      <td>0.9975</td>\n",
       "      <td>2.1618</td>\n",
       "      <td>3.1524</td>\n",
       "      <td>6.3021</td>\n",
       "      <td>1.4222</td>\n",
       "    </tr>\n",
       "  </tbody>\n",
       "</table>\n",
       "<p>20000 rows × 411 columns</p>\n",
       "</div>"
      ],
      "text/plain": [
       "       Target  9Gly 69Ser Hbond  9Gly 50Ser Hbond  98Lys 178Tyr Hbond  \\\n",
       "0        open            0.1501            1.1166              2.2196   \n",
       "1        open            0.0154            2.5704              3.4723   \n",
       "2        open            0.0175            0.5351              5.5151   \n",
       "3        open            0.0176            1.6425              4.0564   \n",
       "4        open            0.1046            0.6542              2.0435   \n",
       "...       ...               ...               ...                 ...   \n",
       "19995  closed            3.5565            0.0083              6.2767   \n",
       "19996  closed            3.2376            0.0049              6.9223   \n",
       "19997  closed            3.2663            0.0009              8.4582   \n",
       "19998  closed            3.1762            0.0577              6.1486   \n",
       "19999  closed            3.9969            0.0021              4.1860   \n",
       "\n",
       "       98Lys 177Glu Saltbr  98Lys 176Lys Hbond  97Ala 155Leu Hydrophobic  \\\n",
       "0                   6.6927              2.9951                    0.0000   \n",
       "1                   5.4602              1.6337                    0.0000   \n",
       "2                   5.9816              3.4247                    0.0002   \n",
       "3                   7.7428              1.3108                    0.0000   \n",
       "4                   7.8003              0.0065                    0.0000   \n",
       "...                    ...                 ...                       ...   \n",
       "19995               3.1251              9.2131                    2.2660   \n",
       "19996               0.9784             13.0024                    1.9252   \n",
       "19997               1.3587              7.8868                    2.9809   \n",
       "19998               1.4210             11.0404                    3.2518   \n",
       "19999               4.6295              8.0932                    2.1804   \n",
       "\n",
       "       97Ala 150Leu Hydrophobic  97Ala 100Ser Hbond  96Ala 181Ala Hydrophobic  \\\n",
       "0                        0.0004              5.3226                    0.2566   \n",
       "1                        0.0009              5.2617                    0.8459   \n",
       "2                        0.0002              3.0168                    0.8234   \n",
       "3                        0.0006              3.2617                    0.2080   \n",
       "4                        0.0002              2.7963                    0.4199   \n",
       "...                         ...                 ...                       ...   \n",
       "19995                    3.7325              7.0304                    4.8733   \n",
       "19996                    6.2159              7.2790                    3.7049   \n",
       "19997                    7.0876              6.7292                    5.9729   \n",
       "19998                    4.1630              6.3636                    5.2653   \n",
       "19999                    5.9731              4.3290                    5.4346   \n",
       "\n",
       "       ...  104Pro 181Ala Hydrophobic  104Pro 130Trp Hbond  \\\n",
       "0      ...                     2.7846               0.0048   \n",
       "1      ...                     2.1896               1.7524   \n",
       "2      ...                     4.1095               0.7932   \n",
       "3      ...                     2.5094               3.0193   \n",
       "4      ...                     0.8998               1.7571   \n",
       "...    ...                        ...                  ...   \n",
       "19995  ...                     1.3207               3.8751   \n",
       "19996  ...                     1.1520               2.8340   \n",
       "19997  ...                     0.2944               1.6534   \n",
       "19998  ...                     1.8807               3.4687   \n",
       "19999  ...                     0.0660               2.8103   \n",
       "\n",
       "       104Pro 109Leu Hydrophobic  103Gln 181Ala Hbond  103Gln 108Ser Hbond  \\\n",
       "0                         0.1555               0.2941               5.4690   \n",
       "1                         0.0323               0.0495               5.9963   \n",
       "2                         1.9413               0.3060               5.9519   \n",
       "3                         0.3131               0.3684               7.3297   \n",
       "4                         0.0786               0.0083               4.2944   \n",
       "...                          ...                  ...                  ...   \n",
       "19995                     8.2662               0.3503               5.3229   \n",
       "19996                    10.9411               0.8394               3.7553   \n",
       "19997                     7.3688               0.1596               5.9558   \n",
       "19998                    10.9918               0.4895               4.0539   \n",
       "19999                     5.3212               0.0699               4.4220   \n",
       "\n",
       "       102Ile 181Ala Hydrophobic  102Ile 109Leu Hydrophobic  \\\n",
       "0                         1.0816                     0.2628   \n",
       "1                         1.8600                     0.8436   \n",
       "2                         1.2689                     0.0745   \n",
       "3                         1.0753                     1.0128   \n",
       "4                         1.2352                     0.7117   \n",
       "...                          ...                        ...   \n",
       "19995                     0.4944                     2.3400   \n",
       "19996                     1.5075                     3.5444   \n",
       "19997                     2.0222                     0.2322   \n",
       "19998                     2.0900                     2.1292   \n",
       "19999                     0.9975                     2.1618   \n",
       "\n",
       "       101Pro 181Ala Hydrophobic  101Pro 108Ser Hbond  100Ser 112Lys Hbond  \n",
       "0                         0.0000               1.1458               0.0000  \n",
       "1                         0.0000               0.8567               0.0000  \n",
       "2                         0.0000               1.0575               0.8949  \n",
       "3                         0.0000               0.0336               0.0000  \n",
       "4                         0.0000               0.0107               0.0000  \n",
       "...                          ...                  ...                  ...  \n",
       "19995                     1.5735               3.1447               6.2437  \n",
       "19996                     0.2138               1.7076               3.9411  \n",
       "19997                     0.0003               1.0424               3.2056  \n",
       "19998                     1.6673               2.7152               7.6738  \n",
       "19999                     3.1524               6.3021               1.4222  \n",
       "\n",
       "[20000 rows x 411 columns]"
      ]
     },
     "execution_count": 23,
     "metadata": {},
     "output_type": "execute_result"
    }
   ],
   "source": [
    "supervised_dataset.df_filtered.dropna(axis=1)"
   ]
  },
  {
   "cell_type": "markdown",
   "metadata": {},
   "source": [
    "Had to drop ~39 features since these had NaN values"
   ]
  },
  {
   "cell_type": "code",
   "execution_count": 25,
   "metadata": {},
   "outputs": [],
   "source": [
    "supervised_dataset.df_filtered = supervised_dataset.df_filtered.dropna(axis=1)"
   ]
  },
  {
   "cell_type": "code",
   "execution_count": 57,
   "metadata": {},
   "outputs": [
    {
     "data": {
      "text/plain": [
       "(20000, 335)"
      ]
     },
     "execution_count": 57,
     "metadata": {},
     "output_type": "execute_result"
    }
   ],
   "source": [
    "supervised_dataset.df_filtered.shape"
   ]
  },
  {
   "cell_type": "markdown",
   "metadata": {},
   "source": [
    "## Analysis Time! \n",
    "\n",
    "Our dataset is now ready for either statistical analysis or ML or both! "
   ]
  },
  {
   "cell_type": "markdown",
   "metadata": {},
   "source": [
    "### Part 1.1. Perform Statistical Analysis with the stat_modelling.py module. \n",
    "\n",
    "Now we will perform the actual statistical modelling to compare the differences for each feature between states.\n",
    "\n",
    "With this module, we can calculate two different metrics to evaluate how different/similar each feature is when the protein is in the different conformations: \n",
    "\n",
    "1. The [Jensen-Shannon distance](https://docs.scipy.org/doc/scipy/reference/generated/scipy.spatial.distance.jensenshannon.html). For this method, Kernel density estimations (KDEs) are calculated for the normalised interaction stength of feature in each state before performing the calculation. We can also extract these KDEs as we did in the manuscript (and will show you how to do it here) to compare the interaction strengths for each state. \n",
    "\n",
    "2. The [mutual information](https://scikit-learn.org/stable/modules/generated/sklearn.feature_selection.mutual_info_classif.html) using the implementation available in Scikit-learn. The mutual information can capture any kind of dependancy/relationship between variables and score their dependancy\n",
    "\n",
    "In both cases, the higher the score, the more \"different\" the feature is when in the two different states. Scores are in the range 0 and 1.   "
   ]
  },
  {
   "cell_type": "code",
   "execution_count": 59,
   "metadata": {},
   "outputs": [],
   "source": [
    "stat_model = stat_modelling.ClassificationStatModel(\n",
    "    dataset=supervised_dataset.df_filtered, \n",
    "    class_names=[\"closed\", \"open\"], # select the two class labels to compare. Has to be 2 labels. \n",
    "    out_dir=stats_out_dir,\n",
    "    interaction_types_included=[\"Hbond\", \"Saltbr\", \"Hydrophobic\"] # select which interaction types to include, in this case: \"Other\" removed. \n",
    ")"
   ]
  },
  {
   "cell_type": "code",
   "execution_count": 60,
   "metadata": {},
   "outputs": [
    {
     "name": "stdout",
     "output_type": "stream",
     "text": [
      "Jensen-Shannon (JS) distances calculated.\n",
      "LBP_stat_analysis/Jensen_Shannon_Per_Feature_Scores.csv written to disk.\n",
      "You can also access these results via the class attribute: 'js_distances'.\n"
     ]
    }
   ],
   "source": [
    "# First we can calculate the Jensen-Shannon distances\n",
    "stat_model.calc_js_distances()"
   ]
  },
  {
   "cell_type": "code",
   "execution_count": 61,
   "metadata": {},
   "outputs": [
    {
     "name": "stdout",
     "output_type": "stream",
     "text": [
      "Mutual information scores calculated.\n",
      "LBP_stat_analysis/Mutual_Information_Per_Feature_Scores.csv written to disk.\n",
      "You can also access these results via the class attribute: 'mutual_infos'.\n"
     ]
    }
   ],
   "source": [
    "# Now we can calculate the mutual information\n",
    "stat_model.calc_mutual_info_to_target()"
   ]
  },
  {
   "cell_type": "code",
   "execution_count": 62,
   "metadata": {},
   "outputs": [],
   "source": [
    "# As printed above we can access the results from these calculations from the class instance's (we called it stat_model) attributes. \n",
    "mi_results = stat_model.mutual_infos\n",
    "js_results = stat_model.js_distances\n",
    "# stat_model.__dict__.keys() # uncomment to see all attributes available. "
   ]
  },
  {
   "cell_type": "markdown",
   "metadata": {},
   "source": [
    "### Part 1.2. Work up the Statistical Analysis with the post_proccessing.py module. \n",
    "\n",
    "In this module we have access to 3 methods to process the results. \n",
    "\n",
    "1. We can convert the per feature scores to per residue scores, by summing (and then normalising) every per feature score that each residue is involved in.\n",
    "This can allow us to identify residues which seem to differ the most between each state. \n",
    "\n",
    "2. We can also try to predict the \"direction\" that each feature favours. This essentially means in which class is the feature on average stronger in.  \n",
    "\n",
    "3. We can obtain the kernel density estimations for selected interactions to compare how the interactions stengths differ between states. "
   ]
  },
  {
   "cell_type": "code",
   "execution_count": 63,
   "metadata": {},
   "outputs": [
    {
     "data": {
      "text/plain": [
       "dict_keys(['stat_model', 'out_dir', 'per_residue_mutual_infos', 'per_residue_js_distances', 'feature_directions'])"
      ]
     },
     "execution_count": 63,
     "metadata": {},
     "output_type": "execute_result"
    }
   ],
   "source": [
    "# First generate an instance of the class. \n",
    "post_proc = post_proccessing.StatClassificationPostProcessor(\n",
    "    stat_model=stat_model,\n",
    "    out_dir=stats_out_dir\n",
    ")\n",
    "\n",
    "# As you have already seen in the prior steps, we can take a look at class attributes with the __dict__ method. \n",
    "# Note that some of these attributes will be empty until we have run the next few code blocks.\n",
    "post_proc.__dict__.keys()"
   ]
  },
  {
   "cell_type": "code",
   "execution_count": 64,
   "metadata": {},
   "outputs": [
    {
     "name": "stdout",
     "output_type": "stream",
     "text": [
      "LBP_stat_analysis/Jensen_Shannon_Distance_Scores_Per_Residue.csv written to disk.\n",
      "LBP_stat_analysis/Mutual_Information_Scores_Per_Residue.csv written to disk.\n"
     ]
    }
   ],
   "source": [
    "# Now we can run the get_per_res_scores() method, changing the stat_method accordingly.\n",
    "js_per_res_scores = post_proc.get_per_res_scores(\n",
    "    stat_method=\"jensen_shannon\")\n",
    "mi_per_res_scores = post_proc.get_per_res_scores(\n",
    "    stat_method=\"mutual_information\")"
   ]
  },
  {
   "cell_type": "code",
   "execution_count": 65,
   "metadata": {},
   "outputs": [
    {
     "name": "stdout",
     "output_type": "stream",
     "text": [
      "LBP_stat_analysis/Feature_Direction_Estimates.csv written to disk.\n",
      "You can access these predictions through the 'feature_directions' class attribute.\n"
     ]
    },
    {
     "name": "stderr",
     "output_type": "stream",
     "text": [
      "/ihome/lchong/dty7/Apps/anaconda3/envs/kif/lib/python3.11/site-packages/key_interactions_finder/post_proccessing.py:774: UserWarning:\n",
      "\n",
      "Warning, this method is very simplistic and just calculates the average contact score/strength for all features for both classes to determine the direction each feature appears to favour. You should therefore interpret these results with care...\n",
      "\n"
     ]
    }
   ],
   "source": [
    "# Here we predict the \"direction\" that each feature favours. \n",
    "# This essentially means in which class is the feature on average stronger in.  \n",
    "# Because of the nature of the method, a warning is given. \n",
    "post_proc.estimate_feature_directions()"
   ]
  },
  {
   "cell_type": "code",
   "execution_count": 66,
   "metadata": {},
   "outputs": [
    {
     "data": {
      "text/plain": [
       "dict_keys(['14Tyr 161Asp Hbond', '77Arg 121Thr Hbond', '10Thr 68Ile Hbond', '72Ser 121Thr Hbond', '74Thr 121Thr Hbond', '14Tyr 143Gln Hbond', '75Asp 188Lys Saltbr', '17Phe 164Ala Hydrophobic', '91Asp 184Ser Hbond', '162Glu 184Ser Hbond'])"
      ]
     },
     "execution_count": 66,
     "metadata": {},
     "output_type": "execute_result"
    }
   ],
   "source": [
    "# We can also extract the kernel density estimations for the feature with the largest differences. \n",
    "x_values, selected_kdes = post_proc.get_kdes(\n",
    "    number_features=10) # top 10 features based on Jensen Shannon Distances. \n",
    "\n",
    "selected_kdes[\"closed\"].keys() # here we can see what features were in the top 10 and could be plotted. "
   ]
  },
  {
   "cell_type": "code",
   "execution_count": 67,
   "metadata": {},
   "outputs": [
    {
     "data": {
      "text/plain": [
       "dict_keys(['14Tyr 161Asp Hbond', '77Arg 121Thr Hbond', '10Thr 68Ile Hbond', '72Ser 121Thr Hbond', '74Thr 121Thr Hbond', '14Tyr 143Gln Hbond', '75Asp 188Lys Saltbr', '17Phe 164Ala Hydrophobic', '91Asp 184Ser Hbond', '162Glu 184Ser Hbond'])"
      ]
     },
     "execution_count": 67,
     "metadata": {},
     "output_type": "execute_result"
    }
   ],
   "source": [
    "selected_kdes[\"open\"].keys() "
   ]
  },
  {
   "cell_type": "markdown",
   "metadata": {},
   "source": [
    "**Optional:** Now we will take a look at the most different feature in both states using the plotly plotting library. "
   ]
  },
  {
   "cell_type": "code",
   "execution_count": 68,
   "metadata": {},
   "outputs": [],
   "source": [
    "import plotly.express as px\n",
    "import plotly.graph_objects as go"
   ]
  },
  {
   "cell_type": "code",
   "execution_count": 70,
   "metadata": {},
   "outputs": [
    {
     "data": {
      "text/html": [
       "<div>\n",
       "<style scoped>\n",
       "    .dataframe tbody tr th:only-of-type {\n",
       "        vertical-align: middle;\n",
       "    }\n",
       "\n",
       "    .dataframe tbody tr th {\n",
       "        vertical-align: top;\n",
       "    }\n",
       "\n",
       "    .dataframe thead th {\n",
       "        text-align: right;\n",
       "    }\n",
       "</style>\n",
       "<table border=\"1\" class=\"dataframe\">\n",
       "  <thead>\n",
       "    <tr style=\"text-align: right;\">\n",
       "      <th></th>\n",
       "      <th>Normalised Interaction Strength</th>\n",
       "      <th>Closed</th>\n",
       "      <th>Open</th>\n",
       "    </tr>\n",
       "  </thead>\n",
       "  <tbody>\n",
       "    <tr>\n",
       "      <th>0</th>\n",
       "      <td>0.00</td>\n",
       "      <td>0.269569</td>\n",
       "      <td>18.388928</td>\n",
       "    </tr>\n",
       "    <tr>\n",
       "      <th>1</th>\n",
       "      <td>0.02</td>\n",
       "      <td>0.208417</td>\n",
       "      <td>11.694717</td>\n",
       "    </tr>\n",
       "    <tr>\n",
       "      <th>2</th>\n",
       "      <td>0.04</td>\n",
       "      <td>0.105272</td>\n",
       "      <td>3.124036</td>\n",
       "    </tr>\n",
       "    <tr>\n",
       "      <th>3</th>\n",
       "      <td>0.06</td>\n",
       "      <td>0.075119</td>\n",
       "      <td>0.668882</td>\n",
       "    </tr>\n",
       "    <tr>\n",
       "      <th>4</th>\n",
       "      <td>0.08</td>\n",
       "      <td>0.073774</td>\n",
       "      <td>0.336527</td>\n",
       "    </tr>\n",
       "  </tbody>\n",
       "</table>\n",
       "</div>"
      ],
      "text/plain": [
       "   Normalised Interaction Strength    Closed       Open\n",
       "0                             0.00  0.269569  18.388928\n",
       "1                             0.02  0.208417  11.694717\n",
       "2                             0.04  0.105272   3.124036\n",
       "3                             0.06  0.075119   0.668882\n",
       "4                             0.08  0.073774   0.336527"
      ]
     },
     "execution_count": 70,
     "metadata": {},
     "output_type": "execute_result"
    }
   ],
   "source": [
    "interaction_df = pd.DataFrame(\n",
    "    {\"Normalised Interaction Strength\": list(x_values[:, 0]),\n",
    "     \"Closed\": selected_kdes[\"closed\"]['14Tyr 161Asp Hbond'],\n",
    "     \"Open\": selected_kdes[\"open\"]['14Tyr 161Asp Hbond']\n",
    "    }\n",
    ")\n",
    "\n",
    "interaction_df.head()"
   ]
  },
  {
   "cell_type": "code",
   "execution_count": 71,
   "metadata": {},
   "outputs": [
    {
     "data": {
      "application/vnd.plotly.v1+json": {
       "config": {
        "plotlyServerURL": "https://plot.ly"
       },
       "data": [
        {
         "hovertemplate": "variable=Closed<br>Normalised Interaction Strength=%{x}<br>value=%{y}<extra></extra>",
         "legendgroup": "Closed",
         "line": {
          "color": "#636efa",
          "dash": "solid"
         },
         "marker": {
          "symbol": "circle"
         },
         "mode": "lines+markers",
         "name": "Closed",
         "orientation": "v",
         "showlegend": true,
         "type": "scatter",
         "x": {
          "bdata": "AAAAAAAAAAB7FK5H4XqUP3sUrkfheqQ/uB6F61G4rj97FK5H4Xq0P5qZmZmZmbk/uB6F61G4vj/sUbgehevBP3sUrkfhesQ/CtejcD0Kxz+amZmZmZnJPylcj8L1KMw/uB6F61G4zj+kcD0K16PQP+xRuB6F69E/MzMzMzMz0z97FK5H4XrUP8P1KFyPwtU/CtejcD0K1z9SuB6F61HYP5qZmZmZmdk/4XoUrkfh2j8pXI/C9SjcP3E9CtejcN0/uB6F61G43j8AAAAAAADgP6RwPQrXo+A/SOF6FK5H4T/sUbgehevhP4/C9Shcj+I/MzMzMzMz4z/Xo3A9CtfjP3sUrkfheuQ/H4XrUbge5T/D9Shcj8LlP2dmZmZmZuY/CtejcD0K5z+uR+F6FK7nP1K4HoXrUeg/9ihcj8L16D+amZmZmZnpPz4K16NwPeo/4XoUrkfh6j+F61G4HoXrPylcj8L1KOw/zczMzMzM7D9xPQrXo3DtPxWuR+F6FO4/uB6F61G47j9cj8L1KFzvPw==",
          "dtype": "f8"
         },
         "xaxis": "x",
         "y": {
          "bdata": "OOsiEp1A0T9zhq6wZK3KP7ZZIWIf87o/qqtEWP86sz/+Q5bt2OKyP1Fbr1oFLq0/htTsJ9Skoj8U1dWw3L+hP7Qak3QPo6M/yQRgxdWgoT9igFvagxWgP4EQFXuC/6U/qC1++NKItD/L8IVI+inFP9V/6sjjS9U/TuPyrhIA5D/CJwW+A4jwP+6pDjz2jvc/Vp+gpKjg/j+uj/+P43IDQM4SYLEdygZA2HLmDnTbCEDO87+P8gcKQOeQHoV03QpAnVyo3+oLC0BMIbMBMEYKQAUYAMtZ7whAqJN8RPddB0Am4p/thbMFQAZLX1k2IgRAJSLil4w0AkCFgNA9x/T+P8NNg0ICJfk/q2BUsr268z9uniXt8EDuP1W/cWCbxuY/2xz3RUlx4D9VkA8NxgbXP/tcShgj/88/SKy5BhglxT+9F1EveUa7Pw2Qi8jOO7M/vjsGA2udqT+20kNt+VOZP5BGzb6EzoM/DKGIxMeJcD/+X6aMPc9VPzbQ8jBjzi4/UuDla7lnMj9OKZw7uJxTPw==",
          "dtype": "f8"
         },
         "yaxis": "y"
        },
        {
         "hovertemplate": "variable=Open<br>Normalised Interaction Strength=%{x}<br>value=%{y}<extra></extra>",
         "legendgroup": "Open",
         "line": {
          "color": "#EF553B",
          "dash": "solid"
         },
         "marker": {
          "symbol": "circle"
         },
         "mode": "lines+markers",
         "name": "Open",
         "orientation": "v",
         "showlegend": true,
         "type": "scatter",
         "x": {
          "bdata": "AAAAAAAAAAB7FK5H4XqUP3sUrkfheqQ/uB6F61G4rj97FK5H4Xq0P5qZmZmZmbk/uB6F61G4vj/sUbgehevBP3sUrkfhesQ/CtejcD0Kxz+amZmZmZnJPylcj8L1KMw/uB6F61G4zj+kcD0K16PQP+xRuB6F69E/MzMzMzMz0z97FK5H4XrUP8P1KFyPwtU/CtejcD0K1z9SuB6F61HYP5qZmZmZmdk/4XoUrkfh2j8pXI/C9SjcP3E9CtejcN0/uB6F61G43j8AAAAAAADgP6RwPQrXo+A/SOF6FK5H4T/sUbgehevhP4/C9Shcj+I/MzMzMzMz4z/Xo3A9CtfjP3sUrkfheuQ/H4XrUbge5T/D9Shcj8LlP2dmZmZmZuY/CtejcD0K5z+uR+F6FK7nP1K4HoXrUeg/9ihcj8L16D+amZmZmZnpPz4K16NwPeo/4XoUrkfh6j+F61G4HoXrPylcj8L1KOw/zczMzMzM7D9xPQrXo3DtPxWuR+F6FO4/uB6F61G47j9cj8L1KFzvPw==",
          "dtype": "f8"
         },
         "xaxis": "x",
         "y": {
          "bdata": "JLdC0JBjMkBw+v/ysWMnQHud8rAG/ghAFA6fwHtn5T8rKPzxqInVP5C624B4INA/RdPEnS9Myz++ZrQULeDIPy78biLHFcc/dDL68D2CxD8SD4INoynDP9tpH8uFlcI/MZfawfu2wD/RKjPfesu+PzYiNCRALL4/dOycUy0Uuz/qoDHAnSi4PzoyjuFruLU/ndHbQzSZsT8d1Rr4lR+tP4f43UYhZKc/59lgWkGJnj/1FP67lyqVPzVyOSW/ypA/DbhUZqjqiz9TQCjQdjOKP8UiCXW9G4M/SEs2pTrXez+quwXrOjl0P1MRzt6fwXI/dHwfvFTvdD+XkGpxRdJmP6PVWG+TqEM/snRnGCYTCj8Bl6QJg1S6Pu8FRXzCDFQ+RKprK47Z1j38tm6mUGBDPXoSPTjZWpg8c0anXfOg1jv1Vz7pnQf/OmudjMVGXQ861u5Djz5aBznfO1lhrJrpN1DspS0OqrQ2ge+W4E2MaDU6NGY2tnUFNPSOxjram4sysNM4SL0i+jCwZ2PlTjRSLw==",
          "dtype": "f8"
         },
         "yaxis": "y"
        }
       ],
       "layout": {
        "legend": {
         "title": {
          "text": "variable"
         },
         "tracegroupgap": 0
        },
        "template": {
         "data": {
          "bar": [
           {
            "error_x": {
             "color": "#2a3f5f"
            },
            "error_y": {
             "color": "#2a3f5f"
            },
            "marker": {
             "line": {
              "color": "#E5ECF6",
              "width": 0.5
             },
             "pattern": {
              "fillmode": "overlay",
              "size": 10,
              "solidity": 0.2
             }
            },
            "type": "bar"
           }
          ],
          "barpolar": [
           {
            "marker": {
             "line": {
              "color": "#E5ECF6",
              "width": 0.5
             },
             "pattern": {
              "fillmode": "overlay",
              "size": 10,
              "solidity": 0.2
             }
            },
            "type": "barpolar"
           }
          ],
          "carpet": [
           {
            "aaxis": {
             "endlinecolor": "#2a3f5f",
             "gridcolor": "white",
             "linecolor": "white",
             "minorgridcolor": "white",
             "startlinecolor": "#2a3f5f"
            },
            "baxis": {
             "endlinecolor": "#2a3f5f",
             "gridcolor": "white",
             "linecolor": "white",
             "minorgridcolor": "white",
             "startlinecolor": "#2a3f5f"
            },
            "type": "carpet"
           }
          ],
          "choropleth": [
           {
            "colorbar": {
             "outlinewidth": 0,
             "ticks": ""
            },
            "type": "choropleth"
           }
          ],
          "contour": [
           {
            "colorbar": {
             "outlinewidth": 0,
             "ticks": ""
            },
            "colorscale": [
             [
              0,
              "#0d0887"
             ],
             [
              0.1111111111111111,
              "#46039f"
             ],
             [
              0.2222222222222222,
              "#7201a8"
             ],
             [
              0.3333333333333333,
              "#9c179e"
             ],
             [
              0.4444444444444444,
              "#bd3786"
             ],
             [
              0.5555555555555556,
              "#d8576b"
             ],
             [
              0.6666666666666666,
              "#ed7953"
             ],
             [
              0.7777777777777778,
              "#fb9f3a"
             ],
             [
              0.8888888888888888,
              "#fdca26"
             ],
             [
              1,
              "#f0f921"
             ]
            ],
            "type": "contour"
           }
          ],
          "contourcarpet": [
           {
            "colorbar": {
             "outlinewidth": 0,
             "ticks": ""
            },
            "type": "contourcarpet"
           }
          ],
          "heatmap": [
           {
            "colorbar": {
             "outlinewidth": 0,
             "ticks": ""
            },
            "colorscale": [
             [
              0,
              "#0d0887"
             ],
             [
              0.1111111111111111,
              "#46039f"
             ],
             [
              0.2222222222222222,
              "#7201a8"
             ],
             [
              0.3333333333333333,
              "#9c179e"
             ],
             [
              0.4444444444444444,
              "#bd3786"
             ],
             [
              0.5555555555555556,
              "#d8576b"
             ],
             [
              0.6666666666666666,
              "#ed7953"
             ],
             [
              0.7777777777777778,
              "#fb9f3a"
             ],
             [
              0.8888888888888888,
              "#fdca26"
             ],
             [
              1,
              "#f0f921"
             ]
            ],
            "type": "heatmap"
           }
          ],
          "histogram": [
           {
            "marker": {
             "pattern": {
              "fillmode": "overlay",
              "size": 10,
              "solidity": 0.2
             }
            },
            "type": "histogram"
           }
          ],
          "histogram2d": [
           {
            "colorbar": {
             "outlinewidth": 0,
             "ticks": ""
            },
            "colorscale": [
             [
              0,
              "#0d0887"
             ],
             [
              0.1111111111111111,
              "#46039f"
             ],
             [
              0.2222222222222222,
              "#7201a8"
             ],
             [
              0.3333333333333333,
              "#9c179e"
             ],
             [
              0.4444444444444444,
              "#bd3786"
             ],
             [
              0.5555555555555556,
              "#d8576b"
             ],
             [
              0.6666666666666666,
              "#ed7953"
             ],
             [
              0.7777777777777778,
              "#fb9f3a"
             ],
             [
              0.8888888888888888,
              "#fdca26"
             ],
             [
              1,
              "#f0f921"
             ]
            ],
            "type": "histogram2d"
           }
          ],
          "histogram2dcontour": [
           {
            "colorbar": {
             "outlinewidth": 0,
             "ticks": ""
            },
            "colorscale": [
             [
              0,
              "#0d0887"
             ],
             [
              0.1111111111111111,
              "#46039f"
             ],
             [
              0.2222222222222222,
              "#7201a8"
             ],
             [
              0.3333333333333333,
              "#9c179e"
             ],
             [
              0.4444444444444444,
              "#bd3786"
             ],
             [
              0.5555555555555556,
              "#d8576b"
             ],
             [
              0.6666666666666666,
              "#ed7953"
             ],
             [
              0.7777777777777778,
              "#fb9f3a"
             ],
             [
              0.8888888888888888,
              "#fdca26"
             ],
             [
              1,
              "#f0f921"
             ]
            ],
            "type": "histogram2dcontour"
           }
          ],
          "mesh3d": [
           {
            "colorbar": {
             "outlinewidth": 0,
             "ticks": ""
            },
            "type": "mesh3d"
           }
          ],
          "parcoords": [
           {
            "line": {
             "colorbar": {
              "outlinewidth": 0,
              "ticks": ""
             }
            },
            "type": "parcoords"
           }
          ],
          "pie": [
           {
            "automargin": true,
            "type": "pie"
           }
          ],
          "scatter": [
           {
            "fillpattern": {
             "fillmode": "overlay",
             "size": 10,
             "solidity": 0.2
            },
            "type": "scatter"
           }
          ],
          "scatter3d": [
           {
            "line": {
             "colorbar": {
              "outlinewidth": 0,
              "ticks": ""
             }
            },
            "marker": {
             "colorbar": {
              "outlinewidth": 0,
              "ticks": ""
             }
            },
            "type": "scatter3d"
           }
          ],
          "scattercarpet": [
           {
            "marker": {
             "colorbar": {
              "outlinewidth": 0,
              "ticks": ""
             }
            },
            "type": "scattercarpet"
           }
          ],
          "scattergeo": [
           {
            "marker": {
             "colorbar": {
              "outlinewidth": 0,
              "ticks": ""
             }
            },
            "type": "scattergeo"
           }
          ],
          "scattergl": [
           {
            "marker": {
             "colorbar": {
              "outlinewidth": 0,
              "ticks": ""
             }
            },
            "type": "scattergl"
           }
          ],
          "scattermap": [
           {
            "marker": {
             "colorbar": {
              "outlinewidth": 0,
              "ticks": ""
             }
            },
            "type": "scattermap"
           }
          ],
          "scattermapbox": [
           {
            "marker": {
             "colorbar": {
              "outlinewidth": 0,
              "ticks": ""
             }
            },
            "type": "scattermapbox"
           }
          ],
          "scatterpolar": [
           {
            "marker": {
             "colorbar": {
              "outlinewidth": 0,
              "ticks": ""
             }
            },
            "type": "scatterpolar"
           }
          ],
          "scatterpolargl": [
           {
            "marker": {
             "colorbar": {
              "outlinewidth": 0,
              "ticks": ""
             }
            },
            "type": "scatterpolargl"
           }
          ],
          "scatterternary": [
           {
            "marker": {
             "colorbar": {
              "outlinewidth": 0,
              "ticks": ""
             }
            },
            "type": "scatterternary"
           }
          ],
          "surface": [
           {
            "colorbar": {
             "outlinewidth": 0,
             "ticks": ""
            },
            "colorscale": [
             [
              0,
              "#0d0887"
             ],
             [
              0.1111111111111111,
              "#46039f"
             ],
             [
              0.2222222222222222,
              "#7201a8"
             ],
             [
              0.3333333333333333,
              "#9c179e"
             ],
             [
              0.4444444444444444,
              "#bd3786"
             ],
             [
              0.5555555555555556,
              "#d8576b"
             ],
             [
              0.6666666666666666,
              "#ed7953"
             ],
             [
              0.7777777777777778,
              "#fb9f3a"
             ],
             [
              0.8888888888888888,
              "#fdca26"
             ],
             [
              1,
              "#f0f921"
             ]
            ],
            "type": "surface"
           }
          ],
          "table": [
           {
            "cells": {
             "fill": {
              "color": "#EBF0F8"
             },
             "line": {
              "color": "white"
             }
            },
            "header": {
             "fill": {
              "color": "#C8D4E3"
             },
             "line": {
              "color": "white"
             }
            },
            "type": "table"
           }
          ]
         },
         "layout": {
          "annotationdefaults": {
           "arrowcolor": "#2a3f5f",
           "arrowhead": 0,
           "arrowwidth": 1
          },
          "autotypenumbers": "strict",
          "coloraxis": {
           "colorbar": {
            "outlinewidth": 0,
            "ticks": ""
           }
          },
          "colorscale": {
           "diverging": [
            [
             0,
             "#8e0152"
            ],
            [
             0.1,
             "#c51b7d"
            ],
            [
             0.2,
             "#de77ae"
            ],
            [
             0.3,
             "#f1b6da"
            ],
            [
             0.4,
             "#fde0ef"
            ],
            [
             0.5,
             "#f7f7f7"
            ],
            [
             0.6,
             "#e6f5d0"
            ],
            [
             0.7,
             "#b8e186"
            ],
            [
             0.8,
             "#7fbc41"
            ],
            [
             0.9,
             "#4d9221"
            ],
            [
             1,
             "#276419"
            ]
           ],
           "sequential": [
            [
             0,
             "#0d0887"
            ],
            [
             0.1111111111111111,
             "#46039f"
            ],
            [
             0.2222222222222222,
             "#7201a8"
            ],
            [
             0.3333333333333333,
             "#9c179e"
            ],
            [
             0.4444444444444444,
             "#bd3786"
            ],
            [
             0.5555555555555556,
             "#d8576b"
            ],
            [
             0.6666666666666666,
             "#ed7953"
            ],
            [
             0.7777777777777778,
             "#fb9f3a"
            ],
            [
             0.8888888888888888,
             "#fdca26"
            ],
            [
             1,
             "#f0f921"
            ]
           ],
           "sequentialminus": [
            [
             0,
             "#0d0887"
            ],
            [
             0.1111111111111111,
             "#46039f"
            ],
            [
             0.2222222222222222,
             "#7201a8"
            ],
            [
             0.3333333333333333,
             "#9c179e"
            ],
            [
             0.4444444444444444,
             "#bd3786"
            ],
            [
             0.5555555555555556,
             "#d8576b"
            ],
            [
             0.6666666666666666,
             "#ed7953"
            ],
            [
             0.7777777777777778,
             "#fb9f3a"
            ],
            [
             0.8888888888888888,
             "#fdca26"
            ],
            [
             1,
             "#f0f921"
            ]
           ]
          },
          "colorway": [
           "#636efa",
           "#EF553B",
           "#00cc96",
           "#ab63fa",
           "#FFA15A",
           "#19d3f3",
           "#FF6692",
           "#B6E880",
           "#FF97FF",
           "#FECB52"
          ],
          "font": {
           "color": "#2a3f5f"
          },
          "geo": {
           "bgcolor": "white",
           "lakecolor": "white",
           "landcolor": "#E5ECF6",
           "showlakes": true,
           "showland": true,
           "subunitcolor": "white"
          },
          "hoverlabel": {
           "align": "left"
          },
          "hovermode": "closest",
          "mapbox": {
           "style": "light"
          },
          "paper_bgcolor": "white",
          "plot_bgcolor": "#E5ECF6",
          "polar": {
           "angularaxis": {
            "gridcolor": "white",
            "linecolor": "white",
            "ticks": ""
           },
           "bgcolor": "#E5ECF6",
           "radialaxis": {
            "gridcolor": "white",
            "linecolor": "white",
            "ticks": ""
           }
          },
          "scene": {
           "xaxis": {
            "backgroundcolor": "#E5ECF6",
            "gridcolor": "white",
            "gridwidth": 2,
            "linecolor": "white",
            "showbackground": true,
            "ticks": "",
            "zerolinecolor": "white"
           },
           "yaxis": {
            "backgroundcolor": "#E5ECF6",
            "gridcolor": "white",
            "gridwidth": 2,
            "linecolor": "white",
            "showbackground": true,
            "ticks": "",
            "zerolinecolor": "white"
           },
           "zaxis": {
            "backgroundcolor": "#E5ECF6",
            "gridcolor": "white",
            "gridwidth": 2,
            "linecolor": "white",
            "showbackground": true,
            "ticks": "",
            "zerolinecolor": "white"
           }
          },
          "shapedefaults": {
           "line": {
            "color": "#2a3f5f"
           }
          },
          "ternary": {
           "aaxis": {
            "gridcolor": "white",
            "linecolor": "white",
            "ticks": ""
           },
           "baxis": {
            "gridcolor": "white",
            "linecolor": "white",
            "ticks": ""
           },
           "bgcolor": "#E5ECF6",
           "caxis": {
            "gridcolor": "white",
            "linecolor": "white",
            "ticks": ""
           }
          },
          "title": {
           "x": 0.05
          },
          "xaxis": {
           "automargin": true,
           "gridcolor": "white",
           "linecolor": "white",
           "ticks": "",
           "title": {
            "standoff": 15
           },
           "zerolinecolor": "white",
           "zerolinewidth": 2
          },
          "yaxis": {
           "automargin": true,
           "gridcolor": "white",
           "linecolor": "white",
           "ticks": "",
           "title": {
            "standoff": 15
           },
           "zerolinecolor": "white",
           "zerolinewidth": 2
          }
         }
        },
        "title": {
         "text": "Comparison of the KDEs obtained for Closed and Open Confs"
        },
        "xaxis": {
         "anchor": "y",
         "domain": [
          0,
          1
         ],
         "title": {
          "text": "Normalised Interaction Strength"
         }
        },
        "yaxis": {
         "anchor": "x",
         "domain": [
          0,
          1
         ],
         "title": {
          "text": "Density"
         }
        }
       }
      },
      "image/png": "[encoded data removed]"
     },
     "metadata": {},
     "output_type": "display_data"
    }
   ],
   "source": [
    "fig = px.line(interaction_df, x=\"Normalised Interaction Strength\", y=[\"Closed\", \"Open\"], \n",
    "    markers=True, title=\"Comparison of the KDEs obtained for Closed and Open Confs\"\n",
    ")\n",
    "fig.update_layout(yaxis_title=\"Density\")\n",
    "fig.show() # to make this plot interactive, remove \"svg\" and run the cell block. "
   ]
  },
  {
   "cell_type": "markdown",
   "metadata": {},
   "source": [
    "Looking at the above graph it is clear that interaction above is only present in the closed WPD-loop conformation "
   ]
  },
  {
   "cell_type": "markdown",
   "metadata": {},
   "source": [
    "# Part 1.X (REMIX) Project the Results onto Protein Structures with the chimerax_projections.py module. \n",
    " \n",
    "Naturally, we may want to visualise some of the results we have generated above onto a protein structure. We can take advantage of\n",
    "the functions provided in the pymol_projections.py module to do this. \n",
    "\n",
    "As the name suggests this will output ChimeraX compatible python scripts which can be run to represent the results\n",
    "at the: \n",
    "\n",
    "1. Per feature level. (Cylinders are drawn between each feature, with the cylinder radii marking how strong the relative difference is. \n",
    "2. Per residue level. The Carbon alpha of each residue will be depicted as a sphere, with the sphere radii depicting how strong the the relative difference is. "
   ]
  },
  {
   "cell_type": "code",
   "execution_count": 72,
   "metadata": {},
   "outputs": [],
   "source": [
    "# TODO: pickle the stat_model object?"
   ]
  },
  {
   "cell_type": "code",
   "execution_count": 73,
   "metadata": {},
   "outputs": [],
   "source": [
    "from key_interactions_finder import chimerax_projections"
   ]
  },
  {
   "cell_type": "code",
   "execution_count": 74,
   "metadata": {},
   "outputs": [
    {
     "name": "stdout",
     "output_type": "stream",
     "text": [
      "The file: LBP_stat_analysis/jensen_shannon_ChimeraX_Per_Feature_Scores.cxc was written to disk.\n",
      "The file: LBP_stat_analysis/mutual_information_ChimeraX_Per_Feature_Scores.cxc was written to disk.\n"
     ]
    }
   ],
   "source": [
    "# Write ChimeraX compatable scripts for the per feature results.\n",
    "# Simply swap between the two statistical methods as shown below. \n",
    "chimerax_projections.project_chimerax_top_features(\n",
    "    per_feature_scores=stat_model.js_distances,\n",
    "    model_name=\"jensen_shannon\",\n",
    "    numb_features='all', # can be any integer values or \"all\" if you would like all features returned.\n",
    "    out_dir=stats_out_dir,\n",
    "    pdb_file=pdb_file,\n",
    ")\n",
    "\n",
    "chimerax_projections.project_chimerax_top_features(\n",
    "    per_feature_scores=stat_model.mutual_infos,\n",
    "    model_name=\"mutual_information\",\n",
    "    numb_features='all', # can be any integer values or \"all\" if you would like all features returned.\n",
    "    out_dir=stats_out_dir,\n",
    "    pdb_file=pdb_file,\n",
    ")"
   ]
  },
  {
   "cell_type": "code",
   "execution_count": 75,
   "metadata": {},
   "outputs": [
    {
     "name": "stdout",
     "output_type": "stream",
     "text": [
      "The file: LBP_stat_analysis/jensen_shannon_ChimeraX_Per_Res_Scores.cxc was written to disk.\n",
      "The file: LBP_stat_analysis/mutual_information_ChimeraX_Per_Res_Scores.cxc was written to disk.\n"
     ]
    }
   ],
   "source": [
    "# Write PyMOL compatable scripts for the per residue results.\n",
    "# Simply swap between the two statistical methods as shown below. \n",
    "chimerax_projections.project_chimerax_per_res_scores(\n",
    "    per_res_scores=js_per_res_scores,\n",
    "    model_name=\"jensen_shannon\",\n",
    "    out_dir=stats_out_dir\n",
    ")\n",
    "\n",
    "chimerax_projections.project_chimerax_per_res_scores(\n",
    "    per_res_scores=mi_per_res_scores,\n",
    "    model_name=\"mutual_information\",\n",
    "    out_dir=stats_out_dir\n",
    ")"
   ]
  },
  {
   "cell_type": "markdown",
   "metadata": {},
   "source": [
    "### Again using other PDB files"
   ]
  },
  {
   "cell_type": "code",
   "execution_count": 80,
   "metadata": {},
   "outputs": [
    {
     "name": "stdout",
     "output_type": "stream",
     "text": [
      "The file: LBP_stat_analysis/open/jensen_shannon_ChimeraX_Per_Feature_Scores.cxc was written to disk.\n",
      "The file: LBP_stat_analysis/open/mutual_information_ChimeraX_Per_Feature_Scores.cxc was written to disk.\n",
      "The file: LBP_stat_analysis/open/jensen_shannon_ChimeraX_Per_Res_Scores.cxc was written to disk.\n",
      "The file: LBP_stat_analysis/open/mutual_information_ChimeraX_Per_Res_Scores.cxc was written to disk.\n"
     ]
    }
   ],
   "source": [
    "# Write ChimeraX compatable scripts for the per feature results.\n",
    "# Simply swap between the two statistical methods as shown below. \n",
    "pdb = \"open\"\n",
    "\n",
    "chimerax_projections.project_chimerax_top_features(\n",
    "    per_feature_scores=stat_model.js_distances,\n",
    "    model_name=\"jensen_shannon\",\n",
    "    numb_features='all', # can be any integer values or \"all\" if you would like all features returned.\n",
    "    out_dir=stats_out_dir + f\"/{pdb}\",\n",
    "    pdb_file=f\"{pdb}.pdb\",\n",
    ")\n",
    "\n",
    "chimerax_projections.project_chimerax_top_features(\n",
    "    per_feature_scores=stat_model.mutual_infos,\n",
    "    model_name=\"mutual_information\",\n",
    "    numb_features='all', # can be any integer values or \"all\" if you would like all features returned.\n",
    "    out_dir=stats_out_dir + f\"/{pdb}\",\n",
    "    pdb_file=f\"{pdb}.pdb\",\n",
    ")\n",
    "\n",
    "chimerax_projections.project_chimerax_per_res_scores(\n",
    "    per_res_scores=js_per_res_scores,\n",
    "    model_name=\"jensen_shannon\",\n",
    "    out_dir=stats_out_dir + f\"/{pdb}\"\n",
    ")\n",
    "\n",
    "chimerax_projections.project_chimerax_per_res_scores(\n",
    "    per_res_scores=mi_per_res_scores,\n",
    "    model_name=\"mutual_information\",\n",
    "    out_dir=stats_out_dir + f\"/{pdb}\"\n",
    ")"
   ]
  },
  {
   "cell_type": "code",
   "execution_count": 81,
   "metadata": {},
   "outputs": [
    {
     "name": "stdout",
     "output_type": "stream",
     "text": [
      "The file: LBP_stat_analysis/closed/jensen_shannon_ChimeraX_Per_Feature_Scores.cxc was written to disk.\n",
      "The file: LBP_stat_analysis/closed/mutual_information_ChimeraX_Per_Feature_Scores.cxc was written to disk.\n",
      "The file: LBP_stat_analysis/closed/jensen_shannon_ChimeraX_Per_Res_Scores.cxc was written to disk.\n",
      "The file: LBP_stat_analysis/closed/mutual_information_ChimeraX_Per_Res_Scores.cxc was written to disk.\n"
     ]
    }
   ],
   "source": [
    "pdb = \"closed\"\n",
    "\n",
    "chimerax_projections.project_chimerax_top_features(\n",
    "    per_feature_scores=stat_model.js_distances,\n",
    "    model_name=\"jensen_shannon\",\n",
    "    numb_features='all', # can be any integer values or \"all\" if you would like all features returned.\n",
    "    out_dir=stats_out_dir + f\"/{pdb}\",\n",
    "    pdb_file=f\"{pdb}.pdb\",\n",
    ")\n",
    "\n",
    "chimerax_projections.project_chimerax_top_features(\n",
    "    per_feature_scores=stat_model.mutual_infos,\n",
    "    model_name=\"mutual_information\",\n",
    "    numb_features='all', # can be any integer values or \"all\" if you would like all features returned.\n",
    "    out_dir=stats_out_dir + f\"/{pdb}\",\n",
    "    pdb_file=f\"{pdb}.pdb\",\n",
    ")\n",
    "\n",
    "chimerax_projections.project_chimerax_per_res_scores(\n",
    "    per_res_scores=js_per_res_scores,\n",
    "    model_name=\"jensen_shannon\",\n",
    "    out_dir=stats_out_dir + f\"/{pdb}\"\n",
    ")\n",
    "\n",
    "chimerax_projections.project_chimerax_per_res_scores(\n",
    "    per_res_scores=mi_per_res_scores,\n",
    "    model_name=\"mutual_information\",\n",
    "    out_dir=stats_out_dir + f\"/{pdb}\"\n",
    ")"
   ]
  },
  {
   "cell_type": "markdown",
   "metadata": {},
   "source": [
    "# Part 1.3. Project the Results onto Protein Structures with the pymol_projections.py module. \n",
    " \n",
    "Naturally, we may want to visualise some of the results we have generated above onto a protein structure. We can take advantage of\n",
    "the functions provided in the pymol_projections.py module to do this. \n",
    "\n",
    "As the name suggests this will output [PyMOL](https://pymol.org/) compatible python scripts which can be run to represent the results\n",
    "at the: \n",
    "\n",
    "1. Per feature level. (Cylinders are drawn between each feature, with the cylinder radii marking how strong the relative difference is. \n",
    "2. Per residue level. The Carbon alpha of each residue will be depicted as a sphere, with the sphere radii depicting how strong the the relative difference is. "
   ]
  },
  {
   "cell_type": "code",
   "execution_count": 76,
   "metadata": {},
   "outputs": [
    {
     "name": "stdout",
     "output_type": "stream",
     "text": [
      "The file: LBP_stat_analysis/jensen_shannon_Pymol_Per_Feature_Scores.py was written to disk.\n",
      "The file: LBP_stat_analysis/mutual_information_Pymol_Per_Feature_Scores.py was written to disk.\n"
     ]
    }
   ],
   "source": [
    "# Write PyMOL compatable scripts for the per feature results.\n",
    "# Simply swap between the two statistical methods as shown below. \n",
    "pymol_projections.project_pymol_top_features(\n",
    "    per_feature_scores=stat_model.js_distances,\n",
    "    model_name=\"jensen_shannon\",\n",
    "    numb_features='all', # can be any integer values or \"all\" if you would like all features returned.\n",
    "    out_dir=stats_out_dir\n",
    ")\n",
    "\n",
    "pymol_projections.project_pymol_top_features(\n",
    "    per_feature_scores=stat_model.mutual_infos,\n",
    "    model_name=\"mutual_information\",\n",
    "    numb_features='all', # can be any integer values or \"all\" if you would like all features returned.\n",
    "    out_dir=stats_out_dir\n",
    ")"
   ]
  },
  {
   "cell_type": "code",
   "execution_count": 77,
   "metadata": {},
   "outputs": [
    {
     "name": "stdout",
     "output_type": "stream",
     "text": [
      "The file: LBP_stat_analysis/jensen_shannon_Pymol_Per_Res_Scores.py was written to disk.\n",
      "The file: LBP_stat_analysis/mutual_information_Pymol_Per_Res_Scores.py was written to disk.\n"
     ]
    }
   ],
   "source": [
    "# Write PyMOL compatable scripts for the per residue results.\n",
    "# Simply swap between the two statistical methods as shown below. \n",
    "pymol_projections.project_pymol_per_res_scores(\n",
    "    per_res_scores=js_per_res_scores,\n",
    "    model_name=\"jensen_shannon\",\n",
    "    out_dir=stats_out_dir\n",
    ")\n",
    "\n",
    "pymol_projections.project_pymol_per_res_scores(\n",
    "    per_res_scores=mi_per_res_scores,\n",
    "    model_name=\"mutual_information\",\n",
    "    out_dir=stats_out_dir\n",
    ")"
   ]
  },
  {
   "cell_type": "markdown",
   "metadata": {},
   "source": [
    "Heres an example of the figures you can make , see the manuscript for more examples and what the figures represent.\n",
    "\n",
    "<center><img src=\"https://raw.githubusercontent.com/kamerlinlab/KIF/main/tutorials/miscellaneous/ptp1b_example_outputs.png\" alt=\"Drawing\" style=\"width: 70%\" /></center>"
   ]
  },
  {
   "cell_type": "markdown",
   "metadata": {},
   "source": [
    "### Part 2.1 Perform Machine Learning (ML) with the model_building.py module. \n",
    "\n",
    "Now we will use ML to generate models that can describe the difference between the WPD-loop closed and open states. \n",
    "\n",
    "With this module, we use the per feature scores from each ML model to to evaluate how different/similar each feature is when the protein is in the closed WPD-loop conformation or the open-WPD-loop conformation.\n",
    "\n",
    "**We will use three ensemble based classification models:**\n",
    "\n",
    "1. [Categorical Boosting](https://catboost.ai/) - (Refered to as: CatBoost)\n",
    "\n",
    "2. [Extreme Gradient Boosting](https://xgboost.readthedocs.io/en/stable/) - (Refered to as: XGBoost)\n",
    "\n",
    "3. [Random Forest](https://scikit-learn.org/stable/modules/generated/sklearn.ensemble.RandomForestClassifier.html)  (Refered to as: Random_Forest)\n",
    "\n",
    "In all cases, the higher the score, the more \"different\" the feature is when in the two different states."
   ]
  },
  {
   "cell_type": "code",
   "execution_count": 45,
   "metadata": {},
   "outputs": [],
   "source": [
    "# First we will remove all feature involving the WPD-loop, otherwise the model building will be too easy.\n",
    "# This was discussed in detail in the preprint, but the basic idea is that if the WPD-loop interactions are \n",
    "# included then only one of two of these interactions would be enough to predict the conformational state of \n",
    "# the WPD-loop which is non-ideal for our goals. \n",
    "\n",
    "df = supervised_dataset.df_filtered\n",
    "\n",
    "# For D1D2, nothing seems super important, going to use ML with all features\n",
    "\n",
    "# filter to remove those residues on the WPD-loop (residues 176-189)\n",
    "#df_no_WPD_loop = df.loc[:, df.columns.str.contains('176|177|178|179|180|181|182|183|184|185|186|187|188|189')==False]\n",
    "#df_no_WPD_loop.head(3)\n",
    "\n",
    "# We will now use \"df_no_WPD_loop\" in the following cell as the dataset instead of \"supervised_dataset.df_filtered\""
   ]
  },
  {
   "cell_type": "code",
   "execution_count": 46,
   "metadata": {},
   "outputs": [
    {
     "name": "stdout",
     "output_type": "stream",
     "text": [
      "\n",
      "Below is a summary of the machine learning you have planned.\n",
      "You will use 10-fold cross validation and perform 3 repeats.\n",
      "You will use up to 411 features to build each model, with 80.0% of your data used for training the model, which is 14253 observations. \n",
      "20.0% of your data will be used for evaluating the best models produced by the 10-fold cross validation, which is 3564 observations.\n",
      "You have selected to build 3 machine learning model(s), with the following hyperparameters: \n",
      " \n",
      "A CatBoost model, with grid search parameters: \n",
      "{'iterations': [100, 250, 500]} \n",
      "\n",
      "A XGBoost model, with grid search parameters: \n",
      "{'n_estimators': [100, 250, 500]} \n",
      "\n",
      "A Random_Forest model, with grid search parameters: \n",
      "{'n_estimators': [100, 250, 500], 'max_depth': [100]} \n",
      "\n",
      "If you're happy with the above, lets get model building!\n"
     ]
    }
   ],
   "source": [
    "# Instantiate the ClassificationModel class. \n",
    "# Clearly there are many parameters here, using your IDE you can hover over ClassificationModel to see what each parameter does\n",
    "ml_model = model_building.ClassificationModel(\n",
    "    dataset=df, # if want all residues included can replace this with: \"supervised_dataset.df_filtered\"\n",
    "    evaluation_split_ratio=0.20,\n",
    "    classes_to_use=[\"closed\", \"open\"], \n",
    "    models_to_use=[\"CatBoost\", \"XGBoost\", \"Random_Forest\"],\n",
    "    scaling_method=\"min_max\",\n",
    "    out_dir=ml_out_dir, \n",
    "    cross_validation_splits=10, \n",
    "    cross_validation_repeats=3,\n",
    "    search_approach=\"quick\",\n",
    ")"
   ]
  },
  {
   "cell_type": "markdown",
   "metadata": {},
   "source": [
    "Now we can go ahead and build the models.\n",
    "\n",
    "We have one optional parameter in the command below which is to save the models generated. This can be useful if you ever want to come back and do the post-processing later.\n",
    "\n",
    "If you set this to true all the files required will be saved to a folder called \"temporary_files\" in your current working directory. \n",
    "\n",
    "With the current setup this calculation will not take long (maybe 5-10 mins to run on a standard laptop). However, you could perform a very exhausitve calculation using grid search CV (possible by changing the \"search_approach\" parameter in model_building.ClassificationModel() ), in which case it might be useful"
   ]
  },
  {
   "cell_type": "code",
   "execution_count": 47,
   "metadata": {},
   "outputs": [
    {
     "name": "stdout",
     "output_type": "stream",
     "text": [
      "Model saved to disk at: temporary_files/CatBoost_Model.pickle\n",
      "Model saved to disk at: temporary_files/XGBoost_Model.pickle\n"
     ]
    },
    {
     "ename": "KeyboardInterrupt",
     "evalue": "",
     "output_type": "error",
     "traceback": [
      "\u001b[31m---------------------------------------------------------------------------\u001b[39m",
      "\u001b[31mKeyboardInterrupt\u001b[39m                         Traceback (most recent call last)",
      "\u001b[36mCell\u001b[39m\u001b[36m \u001b[39m\u001b[32mIn[47]\u001b[39m\u001b[32m, line 1\u001b[39m\n\u001b[32m----> \u001b[39m\u001b[32m1\u001b[39m ml_model.build_models(save_models=\u001b[38;5;28;01mTrue\u001b[39;00m)\n",
      "\u001b[36mFile \u001b[39m\u001b[32m~/Apps/anaconda3/envs/kif/lib/python3.11/site-packages/key_interactions_finder/model_building.py:215\u001b[39m, in \u001b[36m_SupervisedRunner.build_models\u001b[39m\u001b[34m(self, save_models)\u001b[39m\n\u001b[32m    211\u001b[39m start_time = time.monotonic()\n\u001b[32m    213\u001b[39m clf = GridSearchCV(mod_params[\u001b[33m\"\u001b[39m\u001b[33mmodel\u001b[39m\u001b[33m\"\u001b[39m], mod_params[\u001b[33m\"\u001b[39m\u001b[33mparams\u001b[39m\u001b[33m\"\u001b[39m],\n\u001b[32m    214\u001b[39m                    cv=\u001b[38;5;28mself\u001b[39m.cross_validation_approach, refit=\u001b[38;5;28;01mTrue\u001b[39;00m)\n\u001b[32m--> \u001b[39m\u001b[32m215\u001b[39m clf.fit(\u001b[38;5;28mself\u001b[39m.ml_datasets[\u001b[33m\"\u001b[39m\u001b[33mtrain_data_scaled\u001b[39m\u001b[33m\"\u001b[39m],\n\u001b[32m    216\u001b[39m         \u001b[38;5;28mself\u001b[39m.ml_datasets[\u001b[33m\"\u001b[39m\u001b[33my_train\u001b[39m\u001b[33m\"\u001b[39m])\n\u001b[32m    218\u001b[39m end_time = time.monotonic()\n\u001b[32m    219\u001b[39m time_taken = timedelta(seconds=end_time - start_time)\n",
      "\u001b[36mFile \u001b[39m\u001b[32m~/Apps/anaconda3/envs/kif/lib/python3.11/site-packages/sklearn/base.py:1363\u001b[39m, in \u001b[36m_fit_context.<locals>.decorator.<locals>.wrapper\u001b[39m\u001b[34m(estimator, *args, **kwargs)\u001b[39m\n\u001b[32m   1356\u001b[39m     estimator._validate_params()\n\u001b[32m   1358\u001b[39m \u001b[38;5;28;01mwith\u001b[39;00m config_context(\n\u001b[32m   1359\u001b[39m     skip_parameter_validation=(\n\u001b[32m   1360\u001b[39m         prefer_skip_nested_validation \u001b[38;5;129;01mor\u001b[39;00m global_skip_validation\n\u001b[32m   1361\u001b[39m     )\n\u001b[32m   1362\u001b[39m ):\n\u001b[32m-> \u001b[39m\u001b[32m1363\u001b[39m     \u001b[38;5;28;01mreturn\u001b[39;00m fit_method(estimator, *args, **kwargs)\n",
      "\u001b[36mFile \u001b[39m\u001b[32m~/Apps/anaconda3/envs/kif/lib/python3.11/site-packages/sklearn/model_selection/_search.py:1051\u001b[39m, in \u001b[36mBaseSearchCV.fit\u001b[39m\u001b[34m(self, X, y, **params)\u001b[39m\n\u001b[32m   1045\u001b[39m     results = \u001b[38;5;28mself\u001b[39m._format_results(\n\u001b[32m   1046\u001b[39m         all_candidate_params, n_splits, all_out, all_more_results\n\u001b[32m   1047\u001b[39m     )\n\u001b[32m   1049\u001b[39m     \u001b[38;5;28;01mreturn\u001b[39;00m results\n\u001b[32m-> \u001b[39m\u001b[32m1051\u001b[39m \u001b[38;5;28mself\u001b[39m._run_search(evaluate_candidates)\n\u001b[32m   1053\u001b[39m \u001b[38;5;66;03m# multimetric is determined here because in the case of a callable\u001b[39;00m\n\u001b[32m   1054\u001b[39m \u001b[38;5;66;03m# self.scoring the return type is only known after calling\u001b[39;00m\n\u001b[32m   1055\u001b[39m first_test_score = all_out[\u001b[32m0\u001b[39m][\u001b[33m\"\u001b[39m\u001b[33mtest_scores\u001b[39m\u001b[33m\"\u001b[39m]\n",
      "\u001b[36mFile \u001b[39m\u001b[32m~/Apps/anaconda3/envs/kif/lib/python3.11/site-packages/sklearn/model_selection/_search.py:1605\u001b[39m, in \u001b[36mGridSearchCV._run_search\u001b[39m\u001b[34m(self, evaluate_candidates)\u001b[39m\n\u001b[32m   1603\u001b[39m \u001b[38;5;28;01mdef\u001b[39;00m\u001b[38;5;250m \u001b[39m\u001b[34m_run_search\u001b[39m(\u001b[38;5;28mself\u001b[39m, evaluate_candidates):\n\u001b[32m   1604\u001b[39m \u001b[38;5;250m    \u001b[39m\u001b[33;03m\"\"\"Search all candidates in param_grid\"\"\"\u001b[39;00m\n\u001b[32m-> \u001b[39m\u001b[32m1605\u001b[39m     evaluate_candidates(ParameterGrid(\u001b[38;5;28mself\u001b[39m.param_grid))\n",
      "\u001b[36mFile \u001b[39m\u001b[32m~/Apps/anaconda3/envs/kif/lib/python3.11/site-packages/sklearn/model_selection/_search.py:997\u001b[39m, in \u001b[36mBaseSearchCV.fit.<locals>.evaluate_candidates\u001b[39m\u001b[34m(candidate_params, cv, more_results)\u001b[39m\n\u001b[32m    989\u001b[39m \u001b[38;5;28;01mif\u001b[39;00m \u001b[38;5;28mself\u001b[39m.verbose > \u001b[32m0\u001b[39m:\n\u001b[32m    990\u001b[39m     \u001b[38;5;28mprint\u001b[39m(\n\u001b[32m    991\u001b[39m         \u001b[33m\"\u001b[39m\u001b[33mFitting \u001b[39m\u001b[38;5;132;01m{0}\u001b[39;00m\u001b[33m folds for each of \u001b[39m\u001b[38;5;132;01m{1}\u001b[39;00m\u001b[33m candidates,\u001b[39m\u001b[33m\"\u001b[39m\n\u001b[32m    992\u001b[39m         \u001b[33m\"\u001b[39m\u001b[33m totalling \u001b[39m\u001b[38;5;132;01m{2}\u001b[39;00m\u001b[33m fits\u001b[39m\u001b[33m\"\u001b[39m.format(\n\u001b[32m    993\u001b[39m             n_splits, n_candidates, n_candidates * n_splits\n\u001b[32m    994\u001b[39m         )\n\u001b[32m    995\u001b[39m     )\n\u001b[32m--> \u001b[39m\u001b[32m997\u001b[39m out = parallel(\n\u001b[32m    998\u001b[39m     delayed(_fit_and_score)(\n\u001b[32m    999\u001b[39m         clone(base_estimator),\n\u001b[32m   1000\u001b[39m         X,\n\u001b[32m   1001\u001b[39m         y,\n\u001b[32m   1002\u001b[39m         train=train,\n\u001b[32m   1003\u001b[39m         test=test,\n\u001b[32m   1004\u001b[39m         parameters=parameters,\n\u001b[32m   1005\u001b[39m         split_progress=(split_idx, n_splits),\n\u001b[32m   1006\u001b[39m         candidate_progress=(cand_idx, n_candidates),\n\u001b[32m   1007\u001b[39m         **fit_and_score_kwargs,\n\u001b[32m   1008\u001b[39m     )\n\u001b[32m   1009\u001b[39m     \u001b[38;5;28;01mfor\u001b[39;00m (cand_idx, parameters), (split_idx, (train, test)) \u001b[38;5;129;01min\u001b[39;00m product(\n\u001b[32m   1010\u001b[39m         \u001b[38;5;28menumerate\u001b[39m(candidate_params),\n\u001b[32m   1011\u001b[39m         \u001b[38;5;28menumerate\u001b[39m(cv.split(X, y, **routed_params.splitter.split)),\n\u001b[32m   1012\u001b[39m     )\n\u001b[32m   1013\u001b[39m )\n\u001b[32m   1015\u001b[39m \u001b[38;5;28;01mif\u001b[39;00m \u001b[38;5;28mlen\u001b[39m(out) < \u001b[32m1\u001b[39m:\n\u001b[32m   1016\u001b[39m     \u001b[38;5;28;01mraise\u001b[39;00m \u001b[38;5;167;01mValueError\u001b[39;00m(\n\u001b[32m   1017\u001b[39m         \u001b[33m\"\u001b[39m\u001b[33mNo fits were performed. \u001b[39m\u001b[33m\"\u001b[39m\n\u001b[32m   1018\u001b[39m         \u001b[33m\"\u001b[39m\u001b[33mWas the CV iterator empty? \u001b[39m\u001b[33m\"\u001b[39m\n\u001b[32m   1019\u001b[39m         \u001b[33m\"\u001b[39m\u001b[33mWere there no candidates?\u001b[39m\u001b[33m\"\u001b[39m\n\u001b[32m   1020\u001b[39m     )\n",
      "\u001b[36mFile \u001b[39m\u001b[32m~/Apps/anaconda3/envs/kif/lib/python3.11/site-packages/sklearn/utils/parallel.py:82\u001b[39m, in \u001b[36mParallel.__call__\u001b[39m\u001b[34m(self, iterable)\u001b[39m\n\u001b[32m     73\u001b[39m warning_filters = warnings.filters\n\u001b[32m     74\u001b[39m iterable_with_config_and_warning_filters = (\n\u001b[32m     75\u001b[39m     (\n\u001b[32m     76\u001b[39m         _with_config_and_warning_filters(delayed_func, config, warning_filters),\n\u001b[32m   (...)\u001b[39m\u001b[32m     80\u001b[39m     \u001b[38;5;28;01mfor\u001b[39;00m delayed_func, args, kwargs \u001b[38;5;129;01min\u001b[39;00m iterable\n\u001b[32m     81\u001b[39m )\n\u001b[32m---> \u001b[39m\u001b[32m82\u001b[39m \u001b[38;5;28;01mreturn\u001b[39;00m \u001b[38;5;28msuper\u001b[39m().\u001b[34m__call__\u001b[39m(iterable_with_config_and_warning_filters)\n",
      "\u001b[36mFile \u001b[39m\u001b[32m~/Apps/anaconda3/envs/kif/lib/python3.11/site-packages/joblib/parallel.py:1986\u001b[39m, in \u001b[36mParallel.__call__\u001b[39m\u001b[34m(self, iterable)\u001b[39m\n\u001b[32m   1984\u001b[39m     output = \u001b[38;5;28mself\u001b[39m._get_sequential_output(iterable)\n\u001b[32m   1985\u001b[39m     \u001b[38;5;28mnext\u001b[39m(output)\n\u001b[32m-> \u001b[39m\u001b[32m1986\u001b[39m     \u001b[38;5;28;01mreturn\u001b[39;00m output \u001b[38;5;28;01mif\u001b[39;00m \u001b[38;5;28mself\u001b[39m.return_generator \u001b[38;5;28;01melse\u001b[39;00m \u001b[38;5;28mlist\u001b[39m(output)\n\u001b[32m   1988\u001b[39m \u001b[38;5;66;03m# Let's create an ID that uniquely identifies the current call. If the\u001b[39;00m\n\u001b[32m   1989\u001b[39m \u001b[38;5;66;03m# call is interrupted early and that the same instance is immediately\u001b[39;00m\n\u001b[32m   1990\u001b[39m \u001b[38;5;66;03m# reused, this id will be used to prevent workers that were\u001b[39;00m\n\u001b[32m   1991\u001b[39m \u001b[38;5;66;03m# concurrently finalizing a task from the previous call to run the\u001b[39;00m\n\u001b[32m   1992\u001b[39m \u001b[38;5;66;03m# callback.\u001b[39;00m\n\u001b[32m   1993\u001b[39m \u001b[38;5;28;01mwith\u001b[39;00m \u001b[38;5;28mself\u001b[39m._lock:\n",
      "\u001b[36mFile \u001b[39m\u001b[32m~/Apps/anaconda3/envs/kif/lib/python3.11/site-packages/joblib/parallel.py:1914\u001b[39m, in \u001b[36mParallel._get_sequential_output\u001b[39m\u001b[34m(self, iterable)\u001b[39m\n\u001b[32m   1912\u001b[39m \u001b[38;5;28mself\u001b[39m.n_dispatched_batches += \u001b[32m1\u001b[39m\n\u001b[32m   1913\u001b[39m \u001b[38;5;28mself\u001b[39m.n_dispatched_tasks += \u001b[32m1\u001b[39m\n\u001b[32m-> \u001b[39m\u001b[32m1914\u001b[39m res = func(*args, **kwargs)\n\u001b[32m   1915\u001b[39m \u001b[38;5;28mself\u001b[39m.n_completed_tasks += \u001b[32m1\u001b[39m\n\u001b[32m   1916\u001b[39m \u001b[38;5;28mself\u001b[39m.print_progress()\n",
      "\u001b[36mFile \u001b[39m\u001b[32m~/Apps/anaconda3/envs/kif/lib/python3.11/site-packages/sklearn/utils/parallel.py:147\u001b[39m, in \u001b[36m_FuncWrapper.__call__\u001b[39m\u001b[34m(self, *args, **kwargs)\u001b[39m\n\u001b[32m    145\u001b[39m \u001b[38;5;28;01mwith\u001b[39;00m config_context(**config), warnings.catch_warnings():\n\u001b[32m    146\u001b[39m     warnings.filters = warning_filters\n\u001b[32m--> \u001b[39m\u001b[32m147\u001b[39m     \u001b[38;5;28;01mreturn\u001b[39;00m \u001b[38;5;28mself\u001b[39m.function(*args, **kwargs)\n",
      "\u001b[36mFile \u001b[39m\u001b[32m~/Apps/anaconda3/envs/kif/lib/python3.11/site-packages/sklearn/model_selection/_validation.py:859\u001b[39m, in \u001b[36m_fit_and_score\u001b[39m\u001b[34m(estimator, X, y, scorer, train, test, verbose, parameters, fit_params, score_params, return_train_score, return_parameters, return_n_test_samples, return_times, return_estimator, split_progress, candidate_progress, error_score)\u001b[39m\n\u001b[32m    857\u001b[39m         estimator.fit(X_train, **fit_params)\n\u001b[32m    858\u001b[39m     \u001b[38;5;28;01melse\u001b[39;00m:\n\u001b[32m--> \u001b[39m\u001b[32m859\u001b[39m         estimator.fit(X_train, y_train, **fit_params)\n\u001b[32m    861\u001b[39m \u001b[38;5;28;01mexcept\u001b[39;00m \u001b[38;5;167;01mException\u001b[39;00m:\n\u001b[32m    862\u001b[39m     \u001b[38;5;66;03m# Note fit time as time until error\u001b[39;00m\n\u001b[32m    863\u001b[39m     fit_time = time.time() - start_time\n",
      "\u001b[36mFile \u001b[39m\u001b[32m~/Apps/anaconda3/envs/kif/lib/python3.11/site-packages/sklearn/base.py:1363\u001b[39m, in \u001b[36m_fit_context.<locals>.decorator.<locals>.wrapper\u001b[39m\u001b[34m(estimator, *args, **kwargs)\u001b[39m\n\u001b[32m   1356\u001b[39m     estimator._validate_params()\n\u001b[32m   1358\u001b[39m \u001b[38;5;28;01mwith\u001b[39;00m config_context(\n\u001b[32m   1359\u001b[39m     skip_parameter_validation=(\n\u001b[32m   1360\u001b[39m         prefer_skip_nested_validation \u001b[38;5;129;01mor\u001b[39;00m global_skip_validation\n\u001b[32m   1361\u001b[39m     )\n\u001b[32m   1362\u001b[39m ):\n\u001b[32m-> \u001b[39m\u001b[32m1363\u001b[39m     \u001b[38;5;28;01mreturn\u001b[39;00m fit_method(estimator, *args, **kwargs)\n",
      "\u001b[36mFile \u001b[39m\u001b[32m~/Apps/anaconda3/envs/kif/lib/python3.11/site-packages/sklearn/ensemble/_forest.py:486\u001b[39m, in \u001b[36mBaseForest.fit\u001b[39m\u001b[34m(self, X, y, sample_weight)\u001b[39m\n\u001b[32m    475\u001b[39m trees = [\n\u001b[32m    476\u001b[39m     \u001b[38;5;28mself\u001b[39m._make_estimator(append=\u001b[38;5;28;01mFalse\u001b[39;00m, random_state=random_state)\n\u001b[32m    477\u001b[39m     \u001b[38;5;28;01mfor\u001b[39;00m i \u001b[38;5;129;01min\u001b[39;00m \u001b[38;5;28mrange\u001b[39m(n_more_estimators)\n\u001b[32m    478\u001b[39m ]\n\u001b[32m    480\u001b[39m \u001b[38;5;66;03m# Parallel loop: we prefer the threading backend as the Cython code\u001b[39;00m\n\u001b[32m    481\u001b[39m \u001b[38;5;66;03m# for fitting the trees is internally releasing the Python GIL\u001b[39;00m\n\u001b[32m    482\u001b[39m \u001b[38;5;66;03m# making threading more efficient than multiprocessing in\u001b[39;00m\n\u001b[32m    483\u001b[39m \u001b[38;5;66;03m# that case. However, for joblib 0.12+ we respect any\u001b[39;00m\n\u001b[32m    484\u001b[39m \u001b[38;5;66;03m# parallel_backend contexts set at a higher level,\u001b[39;00m\n\u001b[32m    485\u001b[39m \u001b[38;5;66;03m# since correctness does not rely on using threads.\u001b[39;00m\n\u001b[32m--> \u001b[39m\u001b[32m486\u001b[39m trees = Parallel(\n\u001b[32m    487\u001b[39m     n_jobs=\u001b[38;5;28mself\u001b[39m.n_jobs,\n\u001b[32m    488\u001b[39m     verbose=\u001b[38;5;28mself\u001b[39m.verbose,\n\u001b[32m    489\u001b[39m     prefer=\u001b[33m\"\u001b[39m\u001b[33mthreads\u001b[39m\u001b[33m\"\u001b[39m,\n\u001b[32m    490\u001b[39m )(\n\u001b[32m    491\u001b[39m     delayed(_parallel_build_trees)(\n\u001b[32m    492\u001b[39m         t,\n\u001b[32m    493\u001b[39m         \u001b[38;5;28mself\u001b[39m.bootstrap,\n\u001b[32m    494\u001b[39m         X,\n\u001b[32m    495\u001b[39m         y,\n\u001b[32m    496\u001b[39m         sample_weight,\n\u001b[32m    497\u001b[39m         i,\n\u001b[32m    498\u001b[39m         \u001b[38;5;28mlen\u001b[39m(trees),\n\u001b[32m    499\u001b[39m         verbose=\u001b[38;5;28mself\u001b[39m.verbose,\n\u001b[32m    500\u001b[39m         class_weight=\u001b[38;5;28mself\u001b[39m.class_weight,\n\u001b[32m    501\u001b[39m         n_samples_bootstrap=n_samples_bootstrap,\n\u001b[32m    502\u001b[39m         missing_values_in_feature_mask=missing_values_in_feature_mask,\n\u001b[32m    503\u001b[39m     )\n\u001b[32m    504\u001b[39m     \u001b[38;5;28;01mfor\u001b[39;00m i, t \u001b[38;5;129;01min\u001b[39;00m \u001b[38;5;28menumerate\u001b[39m(trees)\n\u001b[32m    505\u001b[39m )\n\u001b[32m    507\u001b[39m \u001b[38;5;66;03m# Collect newly grown trees\u001b[39;00m\n\u001b[32m    508\u001b[39m \u001b[38;5;28mself\u001b[39m.estimators_.extend(trees)\n",
      "\u001b[36mFile \u001b[39m\u001b[32m~/Apps/anaconda3/envs/kif/lib/python3.11/site-packages/sklearn/utils/parallel.py:82\u001b[39m, in \u001b[36mParallel.__call__\u001b[39m\u001b[34m(self, iterable)\u001b[39m\n\u001b[32m     73\u001b[39m warning_filters = warnings.filters\n\u001b[32m     74\u001b[39m iterable_with_config_and_warning_filters = (\n\u001b[32m     75\u001b[39m     (\n\u001b[32m     76\u001b[39m         _with_config_and_warning_filters(delayed_func, config, warning_filters),\n\u001b[32m   (...)\u001b[39m\u001b[32m     80\u001b[39m     \u001b[38;5;28;01mfor\u001b[39;00m delayed_func, args, kwargs \u001b[38;5;129;01min\u001b[39;00m iterable\n\u001b[32m     81\u001b[39m )\n\u001b[32m---> \u001b[39m\u001b[32m82\u001b[39m \u001b[38;5;28;01mreturn\u001b[39;00m \u001b[38;5;28msuper\u001b[39m().\u001b[34m__call__\u001b[39m(iterable_with_config_and_warning_filters)\n",
      "\u001b[36mFile \u001b[39m\u001b[32m~/Apps/anaconda3/envs/kif/lib/python3.11/site-packages/joblib/parallel.py:1986\u001b[39m, in \u001b[36mParallel.__call__\u001b[39m\u001b[34m(self, iterable)\u001b[39m\n\u001b[32m   1984\u001b[39m     output = \u001b[38;5;28mself\u001b[39m._get_sequential_output(iterable)\n\u001b[32m   1985\u001b[39m     \u001b[38;5;28mnext\u001b[39m(output)\n\u001b[32m-> \u001b[39m\u001b[32m1986\u001b[39m     \u001b[38;5;28;01mreturn\u001b[39;00m output \u001b[38;5;28;01mif\u001b[39;00m \u001b[38;5;28mself\u001b[39m.return_generator \u001b[38;5;28;01melse\u001b[39;00m \u001b[38;5;28mlist\u001b[39m(output)\n\u001b[32m   1988\u001b[39m \u001b[38;5;66;03m# Let's create an ID that uniquely identifies the current call. If the\u001b[39;00m\n\u001b[32m   1989\u001b[39m \u001b[38;5;66;03m# call is interrupted early and that the same instance is immediately\u001b[39;00m\n\u001b[32m   1990\u001b[39m \u001b[38;5;66;03m# reused, this id will be used to prevent workers that were\u001b[39;00m\n\u001b[32m   1991\u001b[39m \u001b[38;5;66;03m# concurrently finalizing a task from the previous call to run the\u001b[39;00m\n\u001b[32m   1992\u001b[39m \u001b[38;5;66;03m# callback.\u001b[39;00m\n\u001b[32m   1993\u001b[39m \u001b[38;5;28;01mwith\u001b[39;00m \u001b[38;5;28mself\u001b[39m._lock:\n",
      "\u001b[36mFile \u001b[39m\u001b[32m~/Apps/anaconda3/envs/kif/lib/python3.11/site-packages/joblib/parallel.py:1914\u001b[39m, in \u001b[36mParallel._get_sequential_output\u001b[39m\u001b[34m(self, iterable)\u001b[39m\n\u001b[32m   1912\u001b[39m \u001b[38;5;28mself\u001b[39m.n_dispatched_batches += \u001b[32m1\u001b[39m\n\u001b[32m   1913\u001b[39m \u001b[38;5;28mself\u001b[39m.n_dispatched_tasks += \u001b[32m1\u001b[39m\n\u001b[32m-> \u001b[39m\u001b[32m1914\u001b[39m res = func(*args, **kwargs)\n\u001b[32m   1915\u001b[39m \u001b[38;5;28mself\u001b[39m.n_completed_tasks += \u001b[32m1\u001b[39m\n\u001b[32m   1916\u001b[39m \u001b[38;5;28mself\u001b[39m.print_progress()\n",
      "\u001b[36mFile \u001b[39m\u001b[32m~/Apps/anaconda3/envs/kif/lib/python3.11/site-packages/sklearn/utils/parallel.py:147\u001b[39m, in \u001b[36m_FuncWrapper.__call__\u001b[39m\u001b[34m(self, *args, **kwargs)\u001b[39m\n\u001b[32m    145\u001b[39m \u001b[38;5;28;01mwith\u001b[39;00m config_context(**config), warnings.catch_warnings():\n\u001b[32m    146\u001b[39m     warnings.filters = warning_filters\n\u001b[32m--> \u001b[39m\u001b[32m147\u001b[39m     \u001b[38;5;28;01mreturn\u001b[39;00m \u001b[38;5;28mself\u001b[39m.function(*args, **kwargs)\n",
      "\u001b[36mFile \u001b[39m\u001b[32m~/Apps/anaconda3/envs/kif/lib/python3.11/site-packages/sklearn/ensemble/_forest.py:188\u001b[39m, in \u001b[36m_parallel_build_trees\u001b[39m\u001b[34m(tree, bootstrap, X, y, sample_weight, tree_idx, n_trees, verbose, class_weight, n_samples_bootstrap, missing_values_in_feature_mask)\u001b[39m\n\u001b[32m    185\u001b[39m     \u001b[38;5;28;01melif\u001b[39;00m class_weight == \u001b[33m\"\u001b[39m\u001b[33mbalanced_subsample\u001b[39m\u001b[33m\"\u001b[39m:\n\u001b[32m    186\u001b[39m         curr_sample_weight *= compute_sample_weight(\u001b[33m\"\u001b[39m\u001b[33mbalanced\u001b[39m\u001b[33m\"\u001b[39m, y, indices=indices)\n\u001b[32m--> \u001b[39m\u001b[32m188\u001b[39m     tree._fit(\n\u001b[32m    189\u001b[39m         X,\n\u001b[32m    190\u001b[39m         y,\n\u001b[32m    191\u001b[39m         sample_weight=curr_sample_weight,\n\u001b[32m    192\u001b[39m         check_input=\u001b[38;5;28;01mFalse\u001b[39;00m,\n\u001b[32m    193\u001b[39m         missing_values_in_feature_mask=missing_values_in_feature_mask,\n\u001b[32m    194\u001b[39m     )\n\u001b[32m    195\u001b[39m \u001b[38;5;28;01melse\u001b[39;00m:\n\u001b[32m    196\u001b[39m     tree._fit(\n\u001b[32m    197\u001b[39m         X,\n\u001b[32m    198\u001b[39m         y,\n\u001b[32m   (...)\u001b[39m\u001b[32m    201\u001b[39m         missing_values_in_feature_mask=missing_values_in_feature_mask,\n\u001b[32m    202\u001b[39m     )\n",
      "\u001b[36mFile \u001b[39m\u001b[32m~/Apps/anaconda3/envs/kif/lib/python3.11/site-packages/sklearn/tree/_classes.py:472\u001b[39m, in \u001b[36mBaseDecisionTree._fit\u001b[39m\u001b[34m(self, X, y, sample_weight, check_input, missing_values_in_feature_mask)\u001b[39m\n\u001b[32m    461\u001b[39m \u001b[38;5;28;01melse\u001b[39;00m:\n\u001b[32m    462\u001b[39m     builder = BestFirstTreeBuilder(\n\u001b[32m    463\u001b[39m         splitter,\n\u001b[32m    464\u001b[39m         min_samples_split,\n\u001b[32m   (...)\u001b[39m\u001b[32m    469\u001b[39m         \u001b[38;5;28mself\u001b[39m.min_impurity_decrease,\n\u001b[32m    470\u001b[39m     )\n\u001b[32m--> \u001b[39m\u001b[32m472\u001b[39m builder.build(\u001b[38;5;28mself\u001b[39m.tree_, X, y, sample_weight, missing_values_in_feature_mask)\n\u001b[32m    474\u001b[39m \u001b[38;5;28;01mif\u001b[39;00m \u001b[38;5;28mself\u001b[39m.n_outputs_ == \u001b[32m1\u001b[39m \u001b[38;5;129;01mand\u001b[39;00m is_classifier(\u001b[38;5;28mself\u001b[39m):\n\u001b[32m    475\u001b[39m     \u001b[38;5;28mself\u001b[39m.n_classes_ = \u001b[38;5;28mself\u001b[39m.n_classes_[\u001b[32m0\u001b[39m]\n",
      "\u001b[31mKeyboardInterrupt\u001b[39m: "
     ]
    }
   ],
   "source": [
    "ml_model.build_models(save_models=True)"
   ]
  },
  {
   "cell_type": "markdown",
   "metadata": {},
   "source": [
    "With the models now built, we can see the models seem to be quite equally matched in terms of accuracy for the train and test sets. \n",
    "We can now evaluate the quality of the models on the validation dataset (also sometimes refered to as the hold-out set).\n",
    "\n",
    "For each ML model built, a pandas dataframe can be generated with metrics describing the accuracy of the model on the validation dataset. \n",
    "If you are unfamiliar with any of the terms presented below, [feel free to check out this guide from scikit-learn](https://scikit-learn.org/stable/modules/generated/sklearn.metrics.classification_report.html)"
   ]
  },
  {
   "cell_type": "code",
   "execution_count": null,
   "metadata": {},
   "outputs": [],
   "source": [
    "reports = ml_model.evaluate_models()"
   ]
  },
  {
   "cell_type": "code",
   "execution_count": null,
   "metadata": {},
   "outputs": [],
   "source": [
    "reports[\"XGBoost\"]"
   ]
  },
  {
   "cell_type": "code",
   "execution_count": null,
   "metadata": {},
   "outputs": [],
   "source": [
    "reports[\"CatBoost\"]"
   ]
  },
  {
   "cell_type": "code",
   "execution_count": null,
   "metadata": {},
   "outputs": [],
   "source": [
    "reports[\"Random_Forest\"]"
   ]
  },
  {
   "cell_type": "markdown",
   "metadata": {},
   "source": [
    "Another popular way to evaluate model quality is to generate confusion matrices. \n",
    "\n",
    "Using the command below we can generate confusion matrices (stored as numpy arrays) for each model we generated. \n",
    "\n",
    "You can then easily plot these confusion matrices in whatever graphing program you like. In this case, I will use plotly as before, but you could easily use another graphing package."
   ]
  },
  {
   "cell_type": "code",
   "execution_count": null,
   "metadata": {},
   "outputs": [],
   "source": [
    "confusion_matrices = ml_model.generate_confusion_matrix()"
   ]
  },
  {
   "cell_type": "code",
   "execution_count": null,
   "metadata": {},
   "outputs": [],
   "source": [
    "confusion_matrices[\"XGBoost\"]"
   ]
  },
  {
   "cell_type": "markdown",
   "metadata": {},
   "source": [
    "Again, you'll need plotly installed (see above) if you want to make this figure."
   ]
  },
  {
   "cell_type": "code",
   "execution_count": null,
   "metadata": {},
   "outputs": [],
   "source": [
    "import plotly.figure_factory as ff\n",
    "\n",
    "labels = [\"closed\", \"open\"]\n",
    "fig = ff.create_annotated_heatmap(confusion_matrices[\"XGBoost\"], x = labels, y = labels, colorscale=\"reds\")\n",
    "fig.update_layout(yaxis = dict(categoryorder = \"category descending\"))\n",
    "fig.update_layout(title=\"Confusion Matrix Obtained for XGBoost using the Validation/Holdout set\")\n",
    "fig.show() # to make this plot interactive, remove \"svg\" and run the cell block. "
   ]
  },
  {
   "cell_type": "markdown",
   "metadata": {},
   "source": [
    "## Part 2.2. Work up the ML results with the post_proccessing.py module. \n",
    "\n",
    "In order to perform the analysis we will need to provide the models generated in Part 2.1 Shown below are the two possible ways to do this. "
   ]
  },
  {
   "cell_type": "code",
   "execution_count": null,
   "metadata": {},
   "outputs": [],
   "source": [
    "# First we will make an instance of the SupervisedPostProcessor class.\n",
    "ml_post_proc = post_proccessing.SupervisedPostProcessor(\n",
    "    out_dir=ml_out_dir,\n",
    ")\n",
    "\n",
    "# Option 1 - Load models from the instance of the SupervisedModel class. \n",
    "ml_post_proc.load_models_from_instance(supervised_model=ml_model)\n",
    "\n",
    "# Option 2 - Load models from disk. (If you've run the model building, shut down the kernel and now want to post-process).\n",
    "#post_proc.load_models_from_disk(models_to_use=[\"XGBoost\", \"CatBoost\", \"Random_Forest\"]) "
   ]
  },
  {
   "cell_type": "code",
   "execution_count": null,
   "metadata": {},
   "outputs": [],
   "source": [
    "# After preparing the class we can now determine the per feature scores for each model made.\n",
    "ml_post_proc.get_per_feature_scores()"
   ]
  },
  {
   "cell_type": "code",
   "execution_count": null,
   "metadata": {},
   "outputs": [],
   "source": [
    "# We can also project these per feature scores onto the per-residue level. \n",
    "ml_post_proc.get_per_res_scores()"
   ]
  },
  {
   "cell_type": "code",
   "execution_count": null,
   "metadata": {},
   "outputs": [],
   "source": [
    "print(ml_post_proc.__dict__.keys())"
   ]
  },
  {
   "cell_type": "markdown",
   "metadata": {},
   "source": [
    "If we take a look at the class attributes we can see the per feature and per residue scores were not just saved to disk, but are also stored inside the class.\n",
    "\n",
    "This means you could easily analyse them within Python if you want. I will show one more way to generate a quick figure here. Bear in mind these results can also be analysed in very similar ways to those generated in the statistical analysis section."
   ]
  },
  {
   "cell_type": "code",
   "execution_count": null,
   "metadata": {},
   "outputs": [],
   "source": [
    "all_per_res_scores = ml_post_proc.all_per_residue_scores\n",
    "all_per_feature_scores = ml_post_proc.all_per_feature_scores"
   ]
  },
  {
   "cell_type": "code",
   "execution_count": null,
   "metadata": {},
   "outputs": [],
   "source": [
    "import pandas as pd \n",
    "import plotly.express as px\n",
    "df_all_per_res_scores = pd.DataFrame(all_per_res_scores).reset_index()\n",
    "df_all_per_res_scores = df_all_per_res_scores.rename(columns={\"index\": \"Residue Number\"})\n",
    "df_all_per_res_scores = df_all_per_res_scores.sort_values([\"Residue Number\"], ascending=True)\n",
    "df_all_per_res_scores.head() "
   ]
  },
  {
   "cell_type": "code",
   "execution_count": null,
   "metadata": {},
   "outputs": [],
   "source": [
    "fig = px.line(df_all_per_res_scores, x=\"Residue Number\", y=[\"CatBoost\", \"XGBoost\", \"Random_Forest\"])\n",
    "fig.update_layout(\n",
    "    title=\"Per Residue Scores for All 3 Machine Learning Models\",\n",
    "    xaxis_title=\"Residue Number\",\n",
    "    yaxis_title=\"Per Residue Score\",\n",
    "    legend_title=\"ML Models\",\n",
    "    font=dict(size=16)\n",
    ")\n",
    "\n",
    "fig.show() # remove \"svg\" to make the graph interactive "
   ]
  },
  {
   "cell_type": "markdown",
   "metadata": {},
   "source": [
    "### Part 2.3. Project the Results onto Protein Structures\n",
    " \n",
    "This section is essentially identical to 1.3, only that now we will output the ml results instead of the stats results"
   ]
  },
  {
   "cell_type": "code",
   "execution_count": null,
   "metadata": {},
   "outputs": [],
   "source": [
    "# Here you do not need to specify what model you would like to the output results for, all will be outputted simultaneously.\n",
    "pymol_projections.project_multiple_per_res_scores(\n",
    "    all_per_res_scores=ml_post_proc.all_per_residue_scores,\n",
    "    out_dir=ml_out_dir\n",
    ")\n",
    "\n",
    "pymol_projections.project_multiple_per_feature_scores(\n",
    "    all_per_feature_scores=ml_post_proc.all_per_feature_scores,\n",
    "    numb_features=\"all\",\n",
    "    out_dir=ml_out_dir\n",
    ")"
   ]
  },
  {
   "cell_type": "code",
   "execution_count": null,
   "metadata": {},
   "outputs": [],
   "source": [
    "# here for ChimeraX\n",
    "chimerax_projections.project_multiple_per_res_scores(\n",
    "    all_per_res_scores=ml_post_proc.all_per_residue_scores,\n",
    "    out_dir=ml_out_dir\n",
    ")\n",
    "\n",
    "chimerax_projections.project_multiple_per_feature_scores(\n",
    "    all_per_feature_scores=ml_post_proc.all_per_feature_scores,\n",
    "    numb_features=\"all\",\n",
    "    out_dir=ml_out_dir,\n",
    "    pdb_file=pdb_file,\n",
    ")"
   ]
  },
  {
   "cell_type": "markdown",
   "metadata": {},
   "source": [
    "DONE!"
   ]
  },
  {
   "cell_type": "code",
   "execution_count": null,
   "metadata": {},
   "outputs": [],
   "source": []
  }
 ],
 "metadata": {
  "kernelspec": {
   "display_name": "kif",
   "language": "python",
   "name": "python3"
  },
  "language_info": {
   "codemirror_mode": {
    "name": "ipython",
    "version": 3
   },
   "file_extension": ".py",
   "mimetype": "text/x-python",
   "name": "python",
   "nbconvert_exporter": "python",
   "pygments_lexer": "ipython3",
   "version": "3.11.13"
  }
 },
 "nbformat": 4,
 "nbformat_minor": 4
}
